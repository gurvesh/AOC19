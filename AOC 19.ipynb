{
 "cells": [
  {
   "cell_type": "markdown",
   "metadata": {},
   "source": [
    "##### Prob 1"
   ]
  },
  {
   "cell_type": "code",
   "execution_count": 201,
   "metadata": {},
   "outputs": [],
   "source": [
    "input1 = open(\"in1.txt\") do file\n",
    "    [parse(Int, s) for s in readlines(file)]\n",
    "end;"
   ]
  },
  {
   "cell_type": "code",
   "execution_count": 202,
   "metadata": {},
   "outputs": [
    {
     "data": {
      "text/plain": [
       "fuel (generic function with 1 method)"
      ]
     },
     "execution_count": 202,
     "metadata": {},
     "output_type": "execute_result"
    }
   ],
   "source": [
    "fuel(mass) = max(floor(mass / 3) - 2, 0)"
   ]
  },
  {
   "cell_type": "code",
   "execution_count": 203,
   "metadata": {},
   "outputs": [
    {
     "data": {
      "text/plain": [
       "fuel (generic function with 2 methods)"
      ]
     },
     "execution_count": 203,
     "metadata": {},
     "output_type": "execute_result"
    }
   ],
   "source": [
    "function fuel(mass, flag)\n",
    "    new_fuel = fuel(mass)\n",
    "    new_fuel == 0 ? 0 : new_fuel + fuel(new_fuel, flag)\n",
    "end"
   ]
  },
  {
   "cell_type": "code",
   "execution_count": 205,
   "metadata": {},
   "outputs": [
    {
     "name": "stdout",
     "output_type": "stream",
     "text": [
      "  0.000005 seconds (6 allocations: 192 bytes)\n"
     ]
    },
    {
     "data": {
      "text/plain": [
       "3.150224e6"
      ]
     },
     "execution_count": 205,
     "metadata": {},
     "output_type": "execute_result"
    }
   ],
   "source": [
    "@time sum(fuel(x) for x in input1)"
   ]
  },
  {
   "cell_type": "code",
   "execution_count": 206,
   "metadata": {},
   "outputs": [
    {
     "data": {
      "text/plain": [
       "50346.0"
      ]
     },
     "execution_count": 206,
     "metadata": {},
     "output_type": "execute_result"
    }
   ],
   "source": [
    "fuel(100756, 1)"
   ]
  },
  {
   "cell_type": "code",
   "execution_count": 230,
   "metadata": {},
   "outputs": [
    {
     "name": "stdout",
     "output_type": "stream",
     "text": [
      "  0.044985 seconds (61.04 k allocations: 3.043 MiB)\n"
     ]
    },
    {
     "data": {
      "text/plain": [
       "4.722484e6"
      ]
     },
     "execution_count": 230,
     "metadata": {},
     "output_type": "execute_result"
    }
   ],
   "source": [
    "@time mapreduce(x->fuel(x,1), +, input1)"
   ]
  },
  {
   "cell_type": "markdown",
   "metadata": {},
   "source": [
    "##### Prob 2"
   ]
  },
  {
   "cell_type": "code",
   "execution_count": 8,
   "metadata": {},
   "outputs": [],
   "source": [
    "input2 = [1,0,0,3,1,1,2,3,1,3,4,3,1,5,0,3,2,1,6,19,1,9,19,23,2,23,10,27,1,27,5,31,1,31,6,35,1,6,35,39,2,39,13,43,1,9,43,47,2,9,47,51,1,51,6,55,2,55,10,59,1,59,5,63,2,10,63,67,2,9,67,71,1,71,5,75,2,10,75,79,1,79,6,83,2,10,83,87,1,5,87,91,2,9,91,95,1,95,5,99,1,99,2,103,1,103,13,0,99,2,14,0,0];"
   ]
  },
  {
   "cell_type": "code",
   "execution_count": 9,
   "metadata": {},
   "outputs": [
    {
     "data": {
      "text/plain": [
       "p2 (generic function with 1 method)"
      ]
     },
     "execution_count": 9,
     "metadata": {},
     "output_type": "execute_result"
    }
   ],
   "source": [
    "opcodes = Dict([1 => +, 2 => *])\n",
    "\n",
    "# This will be replaced by a much better function with Dict (and therefore no hacky +1s in Prob 9)\n",
    "function p2(input, x1, x2)\n",
    "    input_c = copy(input)\n",
    "    ind = 1\n",
    "    input_c[2], input_c[3] = x1, x2\n",
    "    while input_c[ind] != 99\n",
    "        input_c[input_c[ind+3]+1] = opcodes[input_c[ind]](input_c[input_c[ind+1]+1], input_c[input_c[ind+2]+1])\n",
    "        ind += 4\n",
    "    end\n",
    "    input_c[1], input_c[2], input_c[3]\n",
    "end"
   ]
  },
  {
   "cell_type": "code",
   "execution_count": 11,
   "metadata": {},
   "outputs": [
    {
     "name": "stdout",
     "output_type": "stream",
     "text": [
      "  0.000010 seconds (39 allocations: 1.688 KiB)\n"
     ]
    },
    {
     "data": {
      "text/plain": [
       "(3931283, 12, 2)"
      ]
     },
     "execution_count": 11,
     "metadata": {},
     "output_type": "execute_result"
    }
   ],
   "source": [
    "@time p2(input2, 12, 2)"
   ]
  },
  {
   "cell_type": "code",
   "execution_count": 12,
   "metadata": {},
   "outputs": [
    {
     "name": "stdout",
     "output_type": "stream",
     "text": [
      "  0.021339 seconds (248.48 k allocations: 10.404 MiB)\n"
     ]
    },
    {
     "data": {
      "text/plain": [
       "((19690720, 69, 79), 6979)"
      ]
     },
     "execution_count": 12,
     "metadata": {},
     "output_type": "execute_result"
    }
   ],
   "source": [
    "@time begin\n",
    "    out = [0,0,0]\n",
    "    for x1 in 1:100, x2 in 1:100\n",
    "        global out = p2(input2, x1, x2)\n",
    "        out[1] == 19690720 ? break : continue\n",
    "    end\n",
    "end\n",
    "\n",
    "out, out[2]*100 + out[3]"
   ]
  },
  {
   "cell_type": "markdown",
   "metadata": {},
   "source": [
    "##### Prob 3"
   ]
  },
  {
   "cell_type": "code",
   "execution_count": 1,
   "metadata": {},
   "outputs": [
    {
     "data": {
      "text/plain": [
       "manhattan (generic function with 1 method)"
      ]
     },
     "execution_count": 1,
     "metadata": {},
     "output_type": "execute_result"
    }
   ],
   "source": [
    "using IterTools\n",
    "\n",
    "dirs = Dict(['R' => (1, 0), 'L' => (-1, 0), 'U' => (0, 1), 'D' => (0, -1)])\n",
    "\n",
    "function ins_to_coords(current, ins)\n",
    "    dir = dirs[first(ins)]\n",
    "    n = parse(Int, ins[2:end])\n",
    "    # first([push!(current, current[end] .+ dir) for _ in 1:n]) # Note this returns an array of n currents, which are all the same, so we use first\n",
    "    nth(iterated(c -> push!(c, c[end] .+ dir), current), n)\n",
    "    # @dotimes n push!(current, current[end] .+ dir) # Slower for some reason\n",
    "    # If written as a loop, while and for loops are also quite slow\n",
    "end\n",
    "\n",
    "manhattan(co) = abs(co[1])+abs(co[2])"
   ]
  },
  {
   "cell_type": "code",
   "execution_count": 5,
   "metadata": {},
   "outputs": [
    {
     "name": "stdout",
     "output_type": "stream",
     "text": [
      "  0.032538 seconds (3.42 k allocations: 25.527 MiB)\n"
     ]
    },
    {
     "data": {
      "text/plain": [
       "890"
      ]
     },
     "execution_count": 5,
     "metadata": {},
     "output_type": "execute_result"
    }
   ],
   "source": [
    "@time begin \n",
    "    in1 = split(\"R991,U847,L239,U883,L224,D359,L907,D944,L79,U265,L107,D183,R850,U203,R828,D95,L258,D931,R792,U117,L309,U182,L633,D567,L828,D454,L660,U652,L887,D341,L497,D857,L299,U191,L882,D476,L968,U913,R453,D776,R169,D1,L193,D187,L564,U306,R815,U9,L434,U879,L816,D142,R16,U663,L54,D347,L557,U828,R597,D328,L636,U200,L383,D256,R162,U159,R37,D748,R440,D260,R48,D755,R762,U73,L357,U132,L745,D426,L797,U744,R945,D788,R585,U948,L20,D983,L335,U709,R488,U715,R229,D672,L13,D930,R903,D71,R620,U146,L835,U936,R542,D311,R375,U91,R362,U613,L78,D451,R220,D493,R404,D516,L550,U647,L908,U254,R827,D180,R902,U972,R56,U761,R912,U356,L921,D461,L65,D651,L230,U534,R143,D614,L526,D100,R76,D135,L572,U971,L219,D793,R638,U676,L58,D882,R299,D922,L198,D872,R736,D433,L999,U157,R795,U344,R213,D205,L928,D319,L775,U288,L903,U735,R128,D835,R496,U992,L875,D823,L833,D635,L700,U586,L587,U753,R849,U433,R473,U369,R891,U10,L152,U26,L893,U752,L258,D384,L491,U314,R722,U783,R801,U551,R141,U870,L662,D572,R671,U285,L435,D83,L260,U371,R849,U741,R661,U774,L583,U947,L460,U677,R809,D130,L288,D58,R107,U597,R21,U17,R99,U202,L324,U493,R824,U207,L460,D734,L154,D689,L366,D879,L353,U548,L307,D691,R70,U470,R649,D948,L346,U16,L257,D800,R954,D165,R376,D312,R491,D175,R426,U920,L532,U2,L556,D553,R320,D861,L129,D42,R112,U101,R455,D930,R122,D443,R28,D72,L670,U133,L599,D813,R169,D827,R235,D644,L297,U261,R405,D887,R218,D647,R108,D928,L779,D961,L110,U690,L214,U342,R449,D737,L651,U940,L370,D882,R10,D605,R369,U408,R167,D542,L819\", \",\");\n",
    "    in2 = split(\"L994,U274,R468,D607,R236,D712,R825,D228,L812,U796,R806,D874,L742,D297,L269,D853,R229,U319,R616,U77,L30,D879,L831,U241,R751,D20,R577,D949,L333,D520,L249,D165,R831,U965,L229,D412,L312,U31,L624,U593,L508,D359,R187,D682,R536,D266,L761,U412,R136,D296,L334,D180,R683,U93,L323,D864,L912,U262,L150,U437,L961,U224,R684,D62,R733,U302,R700,D417,R861,U394,L647,D564,R588,U184,L344,D812,L412,U409,R853,D548,L401,D670,R973,U490,R791,D784,R569,U852,R753,U510,R394,D517,R253,D418,R665,D742,L233,D311,L266,D395,L23,U595,R248,D243,L944,U830,L846,U44,L231,D399,R131,D825,R975,U476,L306,U716,L764,D730,L455,U27,L764,D274,R403,D376,L474,D724,R237,U870,R206,U172,R857,D993,R348,U591,R228,U534,L968,U722,L891,U656,L645,U831,L838,D641,R886,U185,R760,U531,R397,D849,L790,U839,L937,U508,L802,U166,L571,D153,L600,U356,R273,D185,L862,D159,L806,U503,R612,U324,R745,D398,L905,D31,L14,U965,R586,U808,L334,U390,R44,D132,R605,U999,R880,U579,R732,D717,L489,D577,R373,D913,R238,U532,R614,U518,R197,U129,R627,U5,R774,D922,L761,D540,R418,U419,R120,U637,R237,D73,L648,D162,L324,D911,L916,D886,L60,D961,R207,U102,R872,D884,R611,U360,R679,U974,R30,U895,L327,U256,L520,U977,R792,D356,R376,D39,L689,U159,R270,D621,L197,U138,L811,U100,L776,U936,R514,D69,R625,U99,L970,D519,R831,U227,L307,D271,R940,U690,L978,D257,R500,D971,R149,U291,L706,U177,L694,U230,R780,U604,R987,U222,L941,D511,R591,U156,L511,U207,L423,U324,R508,U338,L257,U547,R952,U927,L205,U476,L713,D170,L462,D848,R666,D836,R352,U414,L653,D657,R721,U807,L182,U823,L826\", \",\");\n",
    "    w1 = foldl(ins_to_coords, in1, init=[(0,0)])[2:end];\n",
    "    w2 = foldl(ins_to_coords, in2, init=[(0,0)])[2:end];\n",
    "    all_intersects = intersect(w1,w2)\n",
    "    closest = minimum(manhattan, all_intersects)\n",
    "end"
   ]
  },
  {
   "cell_type": "code",
   "execution_count": 8,
   "metadata": {},
   "outputs": [
    {
     "name": "stdout",
     "output_type": "stream",
     "text": [
      "  0.022710 seconds (84 allocations: 16.674 MiB)\n"
     ]
    },
    {
     "data": {
      "text/plain": [
       "16498"
      ]
     },
     "execution_count": 8,
     "metadata": {},
     "output_type": "execute_result"
    }
   ],
   "source": [
    "@time begin\n",
    "    steps1 = indexin(collect(all_intersects), w1); # The first index in the original array, as it is ordered\n",
    "    steps2 = indexin(collect(all_intersects), w2);\n",
    "\n",
    "    total_steps = steps1 .+ steps2\n",
    "    minimum(total_steps)\n",
    "end"
   ]
  },
  {
   "cell_type": "markdown",
   "metadata": {},
   "source": [
    "##### Prob 4"
   ]
  },
  {
   "cell_type": "code",
   "execution_count": 46,
   "metadata": {},
   "outputs": [
    {
     "data": {
      "text/plain": [
       "check (generic function with 1 method)"
      ]
     },
     "execution_count": 46,
     "metadata": {},
     "output_type": "execute_result"
    }
   ],
   "source": [
    "using IterTools\n",
    "Prob 1\n",
    "\n",
    "input1 = open(\"in1.txt\") do file\n",
    "\n",
    "    [parse(Int, s) for s in readlines(file)]\n",
    "\n",
    "end;\n",
    "\n",
    "fuel(mass) = max(floor(mass / 3) - 2, 0)\n",
    "\n",
    "fuel (generic function with 1 method)\n",
    "\n",
    "function fuel(mass, flag)\n",
    "\n",
    "    new_fuel = fuel(mass)\n",
    "\n",
    "    new_fuel == 0 ? 0 : new_fuel + fuel(new_fuel, flag)\n",
    "\n",
    "end\n",
    "\n",
    "fuel (generic function with 2 methods)\n",
    "\n",
    "@time sum(fuel(x) for x in input1)\n",
    "\n",
    "  0.000005 seconds (6 allocations: 192 bytes)\n",
    "\n",
    "3.150224e6\n",
    "\n",
    "fuel(100756, 1)\n",
    "\n",
    "50346.0\n",
    "\n",
    "@time mapreduce(x->fuel(x,1), +, input1)\n",
    "\n",
    "  0.044985 seconds (61.04 k allocations: 3.043 MiB)\n",
    "\n",
    "4.722484e6\n",
    "\n",
    "Prob 2\n",
    "\n",
    "input2 = [1,0,0,3,1,1,2,3,1,3,4,3,1,5,0,3,2,1,6,19,1,9,19,23,2,23,10,27,1,27,5,31,1,31,6,35,1,6,35,39,2,39,13,43,1,9,43,47,2,9,47,51,1,51,6,55,2,55,10,59,1,59,5,63,2,10,63,67,2,9,67,71,1,71,5,75,2,10,75,79,1,79,6,83,2,10,83,87,1,5,87,91,2,9,91,95,1,95,5,99,1,99,2,103,1,103,13,0,99,2,14,0,0];\n",
    "\n",
    "opcodes = Dict([1 => +, 2 => *])\n",
    "\n",
    "​\n",
    "\n",
    "# This will be replaced by a much better function with Dict (and therefore no hacky +1s in Prob 9)\n",
    "\n",
    "function p2(input, x1, x2)\n",
    "\n",
    "    input_c = copy(input)\n",
    "\n",
    "function check(n)\n",
    "    s = string(n)\n",
    "    sa = collect(s)\n",
    "    # (s[1]==s[2] || s[2]==s[3] || s[3]==s[4] || s[4]==s[5] || s[5] == s[6]) && (sort(sa) == sa)\n",
    "    (sort(sa) == sa) && (groupby(identity, s) .|> length |> maximum) > 1 # Marginally slower but looks better\n",
    "    # (sort(sa) == sa) && occursin(r\"(\\d)\\1\", s) # Regex solution - about same speed as the groupby function\n",
    "end"
   ]
  },
  {
   "cell_type": "code",
   "execution_count": 49,
   "metadata": {},
   "outputs": [
    {
     "name": "stdout",
     "output_type": "stream",
     "text": [
      "  0.104305 seconds (2.36 M allocations: 179.154 MiB, 13.31% gc time)\n"
     ]
    },
    {
     "data": {
      "text/plain": [
       "1748"
      ]
     },
     "execution_count": 49,
     "metadata": {},
     "output_type": "execute_result"
    }
   ],
   "source": [
    "@time sum(check(n) for n in 146810:612564)"
   ]
  },
  {
   "cell_type": "code",
   "execution_count": 53,
   "metadata": {},
   "outputs": [
    {
     "data": {
      "text/plain": [
       "check2 (generic function with 1 method)"
      ]
     },
     "execution_count": 53,
     "metadata": {},
     "output_type": "execute_result"
    }
   ],
   "source": [
    "function check2(n)\n",
    "    s = string(n)\n",
    "    sa = collect(s)\n",
    "    (sort(sa) == sa) && 2 in (groupby(identity, s) .|> length)\n",
    "end"
   ]
  },
  {
   "cell_type": "code",
   "execution_count": 55,
   "metadata": {},
   "outputs": [
    {
     "name": "stdout",
     "output_type": "stream",
     "text": [
      "  0.098692 seconds (2.36 M allocations: 179.154 MiB, 14.14% gc time)\n"
     ]
    },
    {
     "data": {
      "text/plain": [
       "1180"
      ]
     },
     "execution_count": 55,
     "metadata": {},
     "output_type": "execute_result"
    }
   ],
   "source": [
    "@time sum(check2(n) for n in 146810:612564)"
   ]
  },
  {
   "cell_type": "markdown",
   "metadata": {},
   "source": [
    "##### Prob 5"
   ]
  },
  {
   "cell_type": "code",
   "execution_count": 26,
   "metadata": {},
   "outputs": [
    {
     "data": {
      "text/plain": [
       "p5 (generic function with 1 method)"
      ]
     },
     "execution_count": 26,
     "metadata": {},
     "output_type": "execute_result"
    }
   ],
   "source": [
    "bin_opcodes = Dict([1 => +, 2 => *, 7 => <, 8 => ==])\n",
    "\n",
    "# This will be replaced by a much better function with Dict (and therefore no hacky +1s in Prob 9)\n",
    "function p5(input, in_val)\n",
    "    input_c = copy(input)\n",
    "    ind = 1\n",
    "    while input_c[ind] != 99\n",
    "        ins = input_c[ind]\n",
    "        op = ins % 100\n",
    "        \n",
    "        mode1 = (log10(ins) > 2) ? parse(Int, string(ins)[end-2]) : 0\n",
    "        mode2 = (log10(ins) > 3) ? 1 : 0\n",
    "        \n",
    "        op in [3,4] && (n_params = 1)\n",
    "        op in [5,6] && (n_params = 2)\n",
    "        op in [1,2,7,8] && (n_params = 3)\n",
    "        \n",
    "        # println(\"ins: $ins, ind: $ind, param1 = $(input_c[ind+1]), param2 = $(input_c[ind+2]), param3 = $(input_c[ind+3])\")\n",
    "        param1 = (mode1 == 0) ? input_c[input_c[ind+1]+1] : input_c[ind+1]\n",
    "        if n_params > 1\n",
    "            param2 = (mode2 == 0) ? input_c[input_c[ind+2]+1] : input_c[ind+2]\n",
    "        end\n",
    "        out_ind = (op == 3 ? input_c[ind+1]+1 : input_c[ind+3]+1)\n",
    "        \n",
    "        op in [1,2,7,8] && ( input_c[out_ind] = bin_opcodes[op](param1,param2) )\n",
    "        op == 3 && (input_c[out_ind] = in_val)\n",
    "        op == 4 && println(input_c[input_c[ind+1]+1])\n",
    "        if op == 5\n",
    "            ind = (param1 ≠ 0) ? param2+1 : ind+3 #Because of julia's 1-based indexing, need to add 1\n",
    "        elseif op == 6\n",
    "            ind = (param1 == 0) ? param2+1 : ind+3 #Because of julia's 1-based indexing, need to add 1\n",
    "        end\n",
    "        \n",
    "        if !(op in [5,6]) && input_c[ind] == ins #In case of jump, no need to do anything. Otherwise check if the execution has changed the instruction at pointer\n",
    "            ind += (n_params + 1)\n",
    "        end\n",
    "    end\n",
    "end"
   ]
  },
  {
   "cell_type": "code",
   "execution_count": 44,
   "metadata": {},
   "outputs": [],
   "source": [
    "in5 = [3,225,1,225,6,6,1100,1,238,225,104,0,1101,40,71,224,1001,224,-111,224,4,224,1002,223,8,223,101,7,224,224,1,224,223,223,1102,66,6,225,1102,22,54,225,1,65,35,224,1001,224,-86,224,4,224,102,8,223,223,101,6,224,224,1,224,223,223,1102,20,80,225,101,92,148,224,101,-162,224,224,4,224,1002,223,8,223,101,5,224,224,1,224,223,223,1102,63,60,225,1101,32,48,225,2,173,95,224,1001,224,-448,224,4,224,102,8,223,223,1001,224,4,224,1,224,223,223,1001,91,16,224,101,-79,224,224,4,224,1002,223,8,223,101,3,224,224,1,224,223,223,1101,13,29,225,1101,71,70,225,1002,39,56,224,1001,224,-1232,224,4,224,102,8,223,223,101,4,224,224,1,223,224,223,1101,14,59,225,102,38,143,224,1001,224,-494,224,4,224,102,8,223,223,101,3,224,224,1,224,223,223,1102,30,28,224,1001,224,-840,224,4,224,1002,223,8,223,101,4,224,224,1,223,224,223,4,223,99,0,0,0,677,0,0,0,0,0,0,0,0,0,0,0,1105,0,99999,1105,227,247,1105,1,99999,1005,227,99999,1005,0,256,1105,1,99999,1106,227,99999,1106,0,265,1105,1,99999,1006,0,99999,1006,227,274,1105,1,99999,1105,1,280,1105,1,99999,1,225,225,225,1101,294,0,0,105,1,0,1105,1,99999,1106,0,300,1105,1,99999,1,225,225,225,1101,314,0,0,106,0,0,1105,1,99999,107,677,226,224,1002,223,2,223,1005,224,329,1001,223,1,223,8,226,226,224,102,2,223,223,1006,224,344,101,1,223,223,7,226,677,224,1002,223,2,223,1005,224,359,101,1,223,223,1007,677,226,224,1002,223,2,223,1005,224,374,1001,223,1,223,1007,677,677,224,1002,223,2,223,1006,224,389,101,1,223,223,1008,226,226,224,1002,223,2,223,1005,224,404,1001,223,1,223,108,677,226,224,1002,223,2,223,1006,224,419,1001,223,1,223,1108,677,226,224,102,2,223,223,1006,224,434,1001,223,1,223,108,226,226,224,1002,223,2,223,1005,224,449,101,1,223,223,7,677,677,224,1002,223,2,223,1006,224,464,1001,223,1,223,8,226,677,224,1002,223,2,223,1005,224,479,1001,223,1,223,107,226,226,224,102,2,223,223,1006,224,494,101,1,223,223,1007,226,226,224,1002,223,2,223,1005,224,509,1001,223,1,223,1107,226,677,224,102,2,223,223,1005,224,524,1001,223,1,223,108,677,677,224,1002,223,2,223,1005,224,539,101,1,223,223,1107,677,226,224,102,2,223,223,1005,224,554,1001,223,1,223,107,677,677,224,1002,223,2,223,1005,224,569,101,1,223,223,8,677,226,224,102,2,223,223,1005,224,584,1001,223,1,223,7,677,226,224,102,2,223,223,1006,224,599,101,1,223,223,1008,677,677,224,1002,223,2,223,1005,224,614,101,1,223,223,1008,677,226,224,102,2,223,223,1006,224,629,1001,223,1,223,1108,677,677,224,102,2,223,223,1006,224,644,101,1,223,223,1108,226,677,224,1002,223,2,223,1005,224,659,1001,223,1,223,1107,226,226,224,102,2,223,223,1006,224,674,1001,223,1,223,4,223,99,226];"
   ]
  },
  {
   "cell_type": "code",
   "execution_count": 46,
   "metadata": {},
   "outputs": [
    {
     "name": "stdout",
     "output_type": "stream",
     "text": [
      "3\n",
      "0\n",
      "0\n",
      "0\n",
      "0\n",
      "0\n",
      "0\n",
      "0\n",
      "0\n",
      "16434972\n",
      "  0.000781 seconds (571 allocations: 45.094 KiB)\n"
     ]
    }
   ],
   "source": [
    "@time p5(in5, 1)"
   ]
  },
  {
   "cell_type": "code",
   "execution_count": 47,
   "metadata": {},
   "outputs": [
    {
     "name": "stdout",
     "output_type": "stream",
     "text": [
      "16694270\n",
      "  0.004359 seconds (1.92 k allocations: 131.642 KiB)\n"
     ]
    }
   ],
   "source": [
    "@time p5(in5, 5)"
   ]
  },
  {
   "cell_type": "markdown",
   "metadata": {},
   "source": [
    "##### Prob 6"
   ]
  },
  {
   "cell_type": "code",
   "execution_count": 9,
   "metadata": {},
   "outputs": [],
   "source": [
    "in6 = open(\"in6.txt\") do file\n",
    "    in6_d = Dict()\n",
    "    for s in readlines(file)\n",
    "        v,k = split(s, \")\")\n",
    "        in6_d[k] = v\n",
    "    end\n",
    "    in6_d\n",
    "end;"
   ]
  },
  {
   "cell_type": "code",
   "execution_count": 10,
   "metadata": {},
   "outputs": [
    {
     "data": {
      "text/plain": [
       "find_links (generic function with 1 method)"
      ]
     },
     "execution_count": 10,
     "metadata": {},
     "output_type": "execute_result"
    }
   ],
   "source": [
    "find_links(start) = in6[start] == \"COM\" ? 1 : 1+find_links(in6[start])"
   ]
  },
  {
   "cell_type": "code",
   "execution_count": 13,
   "metadata": {},
   "outputs": [
    {
     "name": "stdout",
     "output_type": "stream",
     "text": [
      "  0.113736 seconds (774.72 k allocations: 35.464 MiB, 2.45% gc time)\n"
     ]
    },
    {
     "data": {
      "text/plain": [
       "387356"
      ]
     },
     "execution_count": 13,
     "metadata": {},
     "output_type": "execute_result"
    }
   ],
   "source": [
    "@time mapreduce(find_links, +, keys(in6))"
   ]
  },
  {
   "cell_type": "markdown",
   "metadata": {},
   "source": [
    "##### Let's also try some multi-threading"
   ]
  },
  {
   "cell_type": "code",
   "execution_count": 14,
   "metadata": {},
   "outputs": [],
   "source": [
    "using ThreadingTools"
   ]
  },
  {
   "cell_type": "code",
   "execution_count": 18,
   "metadata": {},
   "outputs": [
    {
     "name": "stdout",
     "output_type": "stream",
     "text": [
      "  0.029141 seconds (774.95 k allocations: 35.491 MiB)\n"
     ]
    },
    {
     "data": {
      "text/plain": [
       "387356"
      ]
     },
     "execution_count": 18,
     "metadata": {},
     "output_type": "execute_result"
    }
   ],
   "source": [
    "@time tmapreduce(find_links, +, collect(keys(in6)))\n",
    "# Slightly faster given the ops are pretty simple, but pretty impressive to see benefits already!"
   ]
  },
  {
   "cell_type": "code",
   "execution_count": 19,
   "metadata": {},
   "outputs": [
    {
     "data": {
      "text/plain": [
       "find_chain (generic function with 1 method)"
      ]
     },
     "execution_count": 19,
     "metadata": {},
     "output_type": "execute_result"
    }
   ],
   "source": [
    "function find_chain(start)\n",
    "    chain = []\n",
    "    next = in6[start]\n",
    "    while next != \"COM\"\n",
    "        push!(chain, next)\n",
    "        next = in6[next]\n",
    "    end\n",
    "    chain\n",
    "end"
   ]
  },
  {
   "cell_type": "code",
   "execution_count": 22,
   "metadata": {},
   "outputs": [
    {
     "name": "stdout",
     "output_type": "stream",
     "text": [
      "532\n",
      "  0.000855 seconds (3.44 k allocations: 240.266 KiB)\n"
     ]
    },
    {
     "data": {
      "text/plain": [
       "532"
      ]
     },
     "execution_count": 22,
     "metadata": {},
     "output_type": "execute_result"
    }
   ],
   "source": [
    "@time begin\n",
    "    me_chain = find_chain(\"YOU\");\n",
    "    santa_chain = find_chain(\"SAN\");\n",
    "\n",
    "    # Either of the 2 below gives the correct answer\n",
    "    println( length(union(me_chain, santa_chain)) - length(intersect(me_chain, santa_chain)) )\n",
    "    length(setdiff(me_chain, santa_chain)) + length(setdiff(santa_chain, me_chain))\n",
    "end"
   ]
  },
  {
   "cell_type": "markdown",
   "metadata": {},
   "source": [
    "##### Prob 7"
   ]
  },
  {
   "cell_type": "code",
   "execution_count": 221,
   "metadata": {},
   "outputs": [],
   "source": [
    "in7 = [3,8,1001,8,10,8,105,1,0,0,21,42,55,64,77,94,175,256,337,418,99999,3,9,102,4,9,9,1001,9,5,9,102,2,9,9,101,3,9,9,4,9,99,3,9,102,2,9,9,101,5,9,9,4,9,99,3,9,1002,9,4,9,4,9,99,3,9,102,4,9,9,101,5,9,9,4,9,99,3,9,102,5,9,9,1001,9,3,9,1002,9,5,9,4,9,99,3,9,1002,9,2,9,4,9,3,9,101,1,9,9,4,9,3,9,1001,9,1,9,4,9,3,9,101,1,9,9,4,9,3,9,1002,9,2,9,4,9,3,9,101,1,9,9,4,9,3,9,101,2,9,9,4,9,3,9,1001,9,2,9,4,9,3,9,101,1,9,9,4,9,3,9,1002,9,2,9,4,9,99,3,9,1002,9,2,9,4,9,3,9,1001,9,2,9,4,9,3,9,1001,9,1,9,4,9,3,9,1002,9,2,9,4,9,3,9,1002,9,2,9,4,9,3,9,1002,9,2,9,4,9,3,9,1002,9,2,9,4,9,3,9,101,2,9,9,4,9,3,9,1001,9,1,9,4,9,3,9,1001,9,1,9,4,9,99,3,9,1002,9,2,9,4,9,3,9,102,2,9,9,4,9,3,9,101,2,9,9,4,9,3,9,101,1,9,9,4,9,3,9,1002,9,2,9,4,9,3,9,102,2,9,9,4,9,3,9,1001,9,2,9,4,9,3,9,101,1,9,9,4,9,3,9,101,1,9,9,4,9,3,9,1002,9,2,9,4,9,99,3,9,101,2,9,9,4,9,3,9,102,2,9,9,4,9,3,9,1001,9,2,9,4,9,3,9,102,2,9,9,4,9,3,9,1001,9,2,9,4,9,3,9,101,2,9,9,4,9,3,9,102,2,9,9,4,9,3,9,1002,9,2,9,4,9,3,9,101,1,9,9,4,9,3,9,1002,9,2,9,4,9,99,3,9,1001,9,2,9,4,9,3,9,1002,9,2,9,4,9,3,9,102,2,9,9,4,9,3,9,102,2,9,9,4,9,3,9,1002,9,2,9,4,9,3,9,101,1,9,9,4,9,3,9,101,1,9,9,4,9,3,9,1002,9,2,9,4,9,3,9,1002,9,2,9,4,9,3,9,1001,9,1,9,4,9,99];"
   ]
  },
  {
   "cell_type": "code",
   "execution_count": 85,
   "metadata": {},
   "outputs": [
    {
     "data": {
      "text/plain": [
       "p7 (generic function with 1 method)"
      ]
     },
     "execution_count": 85,
     "metadata": {},
     "output_type": "execute_result"
    }
   ],
   "source": [
    "using Combinatorics, IterTools\n",
    "allPerms = collect(permutations(0:4));\n",
    "\n",
    "bin_opcodes = Dict([1 => +, 2 => *, 7 => <, 8 => ==])\n",
    "\n",
    "# This will be replaced by a much better function with Dict (and therefore no hacky +1s in Prob 9)\n",
    "function p7(input, ind, in_vals...)\n",
    "    input_c = copy(input)\n",
    "    inCounter = 1\n",
    "    last_out = 0\n",
    "    \n",
    "    while input_c[ind] != 99\n",
    "        ins = input_c[ind]\n",
    "        op = ins % 100\n",
    "        \n",
    "        mode1 = (log10(ins) > 2) ? parse(Int, string(ins)[end-2]) : 0\n",
    "        mode2 = (log10(ins) > 3) ? parse(Int, string(ins)[end-3]) : 0\n",
    "        \n",
    "        op in [3,4] && (n_params = 1)\n",
    "        op in [5,6] && (n_params = 2)\n",
    "        op in [1,2,7,8] && (n_params = 3)\n",
    "        \n",
    "        # println(\"ins: $ins, ind: $ind, param1 = $(input_c[ind+1]), param2 = $(input_c[ind+2]), param3 = $(input_c[ind+3])\")\n",
    "        param1 = (mode1 == 0) ? input_c[input_c[ind+1]+1] : input_c[ind+1]\n",
    "        if n_params > 1\n",
    "            param2 = (mode2 == 0) ? input_c[input_c[ind+2]+1] : input_c[ind+2]\n",
    "        end\n",
    "        out_ind = (op in [3,4,5,6] ? input_c[ind+1]+1 : input_c[ind+3]+1)\n",
    "        \n",
    "        op in [1,2,7,8] && ( input_c[out_ind] = bin_opcodes[op](param1,param2) )\n",
    "        \n",
    "        if op == 3\n",
    "            input_c[out_ind] = in_vals[inCounter]\n",
    "            inCounter += 1\n",
    "        end\n",
    "        \n",
    "        if op == 4 \n",
    "            last_out = input_c[input_c[ind+1]+1]\n",
    "            return last_out, input_c, ind+n_params+1\n",
    "        end\n",
    "        \n",
    "        if op == 5\n",
    "            ind = (param1 ≠ 0) ? param2+1 : ind+3 #Because of julia's 1-based indexing, need to add 1\n",
    "        elseif op == 6\n",
    "            ind = (param1 == 0) ? param2+1 : ind+3 #Because of julia's 1-based indexing, need to add 1\n",
    "        end\n",
    "        \n",
    "        if !(op in [5,6]) && input_c[ind] == ins #In case of jump, no need to do anything. Otherwise check if the execution has changed the instruction at pointer\n",
    "            ind += (n_params + 1)\n",
    "        end\n",
    "    end\n",
    "    return last_out, input_c, 1\n",
    "end"
   ]
  },
  {
   "cell_type": "code",
   "execution_count": 86,
   "metadata": {},
   "outputs": [
    {
     "data": {
      "text/plain": [
       "21760"
      ]
     },
     "execution_count": 86,
     "metadata": {},
     "output_type": "execute_result"
    }
   ],
   "source": [
    "out = []\n",
    "for p7Perm in allPerms\n",
    "    input2 = 0\n",
    "\n",
    "    for i in 1:5\n",
    "        input1 = p7Perm[i]\n",
    "        input2 = p7(in7, 1, input1, input2)[1]\n",
    "    end\n",
    "\n",
    "    push!(out, input2)\n",
    "end\n",
    "max(out...)"
   ]
  },
  {
   "cell_type": "code",
   "execution_count": 72,
   "metadata": {},
   "outputs": [],
   "source": [
    "in7 = [3,26,1001,26,-4,26,3,27,1002,27,2,27,1,27,26,27,4,27,1001,28,-1,28,1005,28,6,99,0,0,5];"
   ]
  },
  {
   "cell_type": "code",
   "execution_count": 94,
   "metadata": {},
   "outputs": [
    {
     "data": {
      "text/plain": [
       "69816958"
      ]
     },
     "execution_count": 94,
     "metadata": {},
     "output_type": "execute_result"
    }
   ],
   "source": [
    "outs = []\n",
    "allPerms = collect(permutations(5:9));\n",
    "for p7Perm in allPerms\n",
    "    inds = [1,1,1,1,1]\n",
    "    input1s = p7Perm\n",
    "    progs = repeat([in7], 5)\n",
    "    input2 = 0\n",
    "    counter = 0\n",
    "    fullCount = 1\n",
    "    out = 0\n",
    "\n",
    "    out_flag = p7(in7, 1, input1s[1], input2)[end]\n",
    "    while out_flag != 1\n",
    "        input1 = input1s[counter+1]\n",
    "        ind = inds[counter+1]\n",
    "        prog = progs[counter+1]\n",
    "\n",
    "        if fullCount < 6\n",
    "            input2, new_prog, out_flag = p7(prog, 1, input1, input2)\n",
    "        else\n",
    "            #println(\"Here\")\n",
    "            input2, new_prog, out_flag = p7(prog, ind, input2)\n",
    "        end\n",
    "\n",
    "        #println(ind,\" \", input1,\" \", input2)\n",
    "\n",
    "        progs[counter+1] = new_prog\n",
    "        inds[counter+1] = out_flag\n",
    "        counter = (counter+1) % 5\n",
    "        fullCount += 1\n",
    "\n",
    "        out = max(out, input2)\n",
    "    end\n",
    "    push!(outs, out)\n",
    "end\n",
    "\n",
    "max(outs...)"
   ]
  },
  {
   "cell_type": "markdown",
   "metadata": {},
   "source": [
    "##### Prob 9"
   ]
  },
  {
   "cell_type": "code",
   "execution_count": 118,
   "metadata": {},
   "outputs": [
    {
     "data": {
      "text/plain": [
       "p9"
      ]
     },
     "execution_count": 118,
     "metadata": {},
     "output_type": "execute_result"
    }
   ],
   "source": [
    "# Switched to using a DefaultDict instead of an array. Makes life much easier, and also don't have to worry\n",
    "# about making the index adjustment by 1 each time.\n",
    "\n",
    "binopcodes = Dict([1 => +, 2 => *, 7 => <, 8 => ==])\n",
    "\n",
    "using DataStructures\n",
    "\n",
    "\"\"\"\n",
    "    p9(input; <keyword arguments>)\n",
    "# Arguments\n",
    "- `input`: the input array, or input Dict\n",
    "- `ind`: the starting index (starts from 0,  not 1, due to conversion into a Dict)\n",
    "- `relbase`: the base for mode 2, i.e. relative mode\n",
    "- `infinitemode`: a Boolean flag which tells the program to keep printing numbers whenever it sees a 4 (output) instruction, as many times as needed, and only stop when 99 is encountered. Otherwise output the value when 4 is encountered.\n",
    "- `invals`: an array of the input vals to the program\n",
    "\"\"\"\n",
    "function p9(input; ind=0, relbase=0, infinitemode=false, invals=[0])\n",
    "    if typeof(input) == Array{Int64,1}\n",
    "        inputcopy = Dict(0:length(input)-1 .=> input) |> d -> DefaultDict(0, d)\n",
    "    else\n",
    "        inputcopy = copy(input)\n",
    "    end\n",
    "    \n",
    "    incounter, lastout, totalins = 1, 0, 0 # totalins: Just to see how many instructions are eventually run - not really needed\n",
    "    outs = [] # In infinite mode, collect all the outputs\n",
    "    \n",
    "    while inputcopy[ind] != 99\n",
    "        totalins += 1\n",
    "        ins = inputcopy[ind]\n",
    "        op = ins % 100\n",
    "        \n",
    "        mode1 = (log10(ins) > 2) ? parse(Int, string(ins)[end-2]) : 0\n",
    "        mode2 = (log10(ins) > 3) ? parse(Int, string(ins)[end-3]) : 0\n",
    "        mode3 = (log10(ins) > 4) ? parse(Int, string(ins)[end-4]) : 0\n",
    "        \n",
    "        #println(mode1, \" \", mode2)\n",
    "        \n",
    "        op in [3,4,9] && (nparams = 1)\n",
    "        op in [5,6] && (nparams = 2)\n",
    "        op in [1,2,7,8] && (nparams = 3)\n",
    "        \n",
    "        param1 = (mode1 == 0) ? inputcopy[ind+1] : (mode1 == 1) ? ind+1 : inputcopy[ind+1]+relbase\n",
    "        nparams > 1 && (param2 = (mode2 == 0) ? inputcopy[ind+2] : (mode2 == 1) ? ind+2 : inputcopy[ind+2]+relbase)\n",
    "        nparams > 2 && (param3 = (mode3 == 0) ? inputcopy[ind+3] : (mode3 == 1) ? ind+3 : inputcopy[ind+3]+relbase)\n",
    "        \n",
    "        #println(\"ins: $ins, ind: $ind, param1 = $(inputcopy[ind+1]), param2 = $(inputcopy[ind+2]), param3 = $(inputcopy[ind+3])\")\n",
    "        \n",
    "        op in [1,2,7,8] && ( inputcopy[param3] = binopcodes[op](inputcopy[param1], inputcopy[param2]) )\n",
    "        \n",
    "        if op == 3\n",
    "            inputcopy[param1] = invals[incounter]\n",
    "            incounter += 1\n",
    "        elseif op == 4\n",
    "            lastout = inputcopy[param1]\n",
    "            if infinitemode \n",
    "                push!(outs, lastout)\n",
    "            else\n",
    "                return Dict(:out => lastout, :prog => inputcopy, :ind => ind+nparams+1, \n",
    "                    :relbase => relbase, :totalins => totalins)\n",
    "            end\n",
    "        elseif op == 5\n",
    "            ind = (inputcopy[param1] ≠ 0) ? inputcopy[param2] : ind+3\n",
    "        elseif op == 6\n",
    "            ind = (inputcopy[param1] == 0) ? inputcopy[param2] : ind+3\n",
    "        elseif op == 9 \n",
    "            (relbase += inputcopy[param1])\n",
    "        end\n",
    "        \n",
    "        if !(op in [5,6]) && inputcopy[ind] == ins #In case of jump, no need to do anything. Otherwise check if the execution has changed the instruction at pointer\n",
    "            ind += (nparams + 1)\n",
    "        end\n",
    "    end\n",
    "    return Dict(:out => infinitemode ? outs : lastout, :prog => inputcopy, :ind => -1, # Changed :ind to -1 to indicate program finished\n",
    "        :relbase => relbase, :totalins => totalins)\n",
    "end"
   ]
  },
  {
   "cell_type": "code",
   "execution_count": 144,
   "metadata": {},
   "outputs": [],
   "source": [
    "in9 = [109,1,204,-1,1001,100,1,100,1008,100,16,101,1006,101,0,99];"
   ]
  },
  {
   "cell_type": "code",
   "execution_count": 145,
   "metadata": {},
   "outputs": [
    {
     "data": {
      "text/plain": [
       "Dict{Symbol,Any} with 5 entries:\n",
       "  :totalins => 80\n",
       "  :out      => Any[109, 1, 204, -1, 1001, 100, 1, 100, 1008, 100, 16, 101, 1006…\n",
       "  :ind      => -1\n",
       "  :relbase  => 16\n",
       "  :prog     => DefaultDict(100=>16,2=>204,101=>1,11=>101,0=>109,7=>100,9=>100,1…"
      ]
     },
     "execution_count": 145,
     "metadata": {},
     "output_type": "execute_result"
    }
   ],
   "source": [
    "p9(in9, infinitemode=true) # The quine program... "
   ]
  },
  {
   "cell_type": "code",
   "execution_count": 146,
   "metadata": {},
   "outputs": [],
   "source": [
    "in9 = [1102,34463338,34463338,63,1007,63,34463338,63,1005,63,53,1101,3,0,1000,109,988,209,12,9,1000,209,6,209,3,203,0,1008,1000,1,63,1005,63,65,1008,1000,2,63,1005,63,904,1008,1000,0,63,1005,63,58,4,25,104,0,99,4,0,104,0,99,4,17,104,0,99,0,0,1101,37,0,1013,1101,426,0,1027,1101,36,0,1000,1101,0,606,1023,1102,34,1,1011,1102,1,712,1029,1102,1,27,1007,1101,831,0,1024,1102,32,1,1002,1102,1,1,1021,1101,429,0,1026,1102,1,826,1025,1101,0,717,1028,1102,1,20,1018,1101,0,24,1004,1102,31,1,1009,1101,22,0,1015,1102,38,1,1014,1102,613,1,1022,1102,29,1,1017,1102,0,1,1020,1102,1,21,1008,1102,33,1,1012,1101,0,30,1006,1101,0,28,1016,1102,1,26,1005,1102,35,1,1019,1101,25,0,1003,1102,1,23,1001,1102,1,39,1010,109,-3,2102,1,5,63,1008,63,34,63,1005,63,205,1001,64,1,64,1106,0,207,4,187,1002,64,2,64,109,-2,1201,7,0,63,1008,63,34,63,1005,63,227,1105,1,233,4,213,1001,64,1,64,1002,64,2,64,109,21,21102,40,1,3,1008,1019,37,63,1005,63,257,1001,64,1,64,1106,0,259,4,239,1002,64,2,64,109,-4,21101,41,0,2,1008,1014,38,63,1005,63,279,1105,1,285,4,265,1001,64,1,64,1002,64,2,64,109,-10,1201,4,0,63,1008,63,30,63,1005,63,307,4,291,1105,1,311,1001,64,1,64,1002,64,2,64,109,6,1207,0,22,63,1005,63,329,4,317,1105,1,333,1001,64,1,64,1002,64,2,64,109,-5,1207,5,20,63,1005,63,353,1001,64,1,64,1106,0,355,4,339,1002,64,2,64,109,8,2108,29,-5,63,1005,63,375,1001,64,1,64,1105,1,377,4,361,1002,64,2,64,109,15,1206,-6,395,4,383,1001,64,1,64,1105,1,395,1002,64,2,64,109,-11,21107,42,43,4,1005,1019,413,4,401,1106,0,417,1001,64,1,64,1002,64,2,64,109,6,2106,0,6,1105,1,435,4,423,1001,64,1,64,1002,64,2,64,109,-15,1208,-3,24,63,1005,63,455,1001,64,1,64,1105,1,457,4,441,1002,64,2,64,109,-13,1208,10,25,63,1005,63,475,4,463,1106,0,479,1001,64,1,64,1002,64,2,64,109,21,21108,43,42,3,1005,1017,495,1106,0,501,4,485,1001,64,1,64,1002,64,2,64,109,-14,2107,31,2,63,1005,63,519,4,507,1106,0,523,1001,64,1,64,1002,64,2,64,109,-4,1202,8,1,63,1008,63,24,63,1005,63,549,4,529,1001,64,1,64,1105,1,549,1002,64,2,64,109,1,2108,23,4,63,1005,63,567,4,555,1105,1,571,1001,64,1,64,1002,64,2,64,109,2,2101,0,5,63,1008,63,21,63,1005,63,591,1105,1,597,4,577,1001,64,1,64,1002,64,2,64,109,28,2105,1,-4,1001,64,1,64,1105,1,615,4,603,1002,64,2,64,109,-10,1205,4,633,4,621,1001,64,1,64,1106,0,633,1002,64,2,64,109,2,1206,2,645,1106,0,651,4,639,1001,64,1,64,1002,64,2,64,109,-4,1202,-6,1,63,1008,63,28,63,1005,63,671,1105,1,677,4,657,1001,64,1,64,1002,64,2,64,109,-9,21102,44,1,4,1008,1010,44,63,1005,63,699,4,683,1105,1,703,1001,64,1,64,1002,64,2,64,109,31,2106,0,-9,4,709,1105,1,721,1001,64,1,64,1002,64,2,64,109,-30,21108,45,45,6,1005,1013,743,4,727,1001,64,1,64,1106,0,743,1002,64,2,64,109,2,21101,46,0,3,1008,1012,46,63,1005,63,765,4,749,1106,0,769,1001,64,1,64,1002,64,2,64,109,-5,2101,0,0,63,1008,63,24,63,1005,63,795,4,775,1001,64,1,64,1105,1,795,1002,64,2,64,109,6,2107,32,-1,63,1005,63,815,1001,64,1,64,1106,0,817,4,801,1002,64,2,64,109,19,2105,1,-5,4,823,1106,0,835,1001,64,1,64,1002,64,2,64,109,-12,21107,47,46,-1,1005,1016,851,1105,1,857,4,841,1001,64,1,64,1002,64,2,64,109,-2,1205,5,873,1001,64,1,64,1105,1,875,4,863,1002,64,2,64,109,-6,2102,1,-8,63,1008,63,23,63,1005,63,897,4,881,1105,1,901,1001,64,1,64,4,64,99,21101,0,27,1,21101,0,915,0,1106,0,922,21201,1,44808,1,204,1,99,109,3,1207,-2,3,63,1005,63,964,21201,-2,-1,1,21101,942,0,0,1105,1,922,21201,1,0,-1,21201,-2,-3,1,21102,957,1,0,1105,1,922,22201,1,-1,-2,1106,0,968,21202,-2,1,-2,109,-3,2105,1,0];"
   ]
  },
  {
   "cell_type": "code",
   "execution_count": 148,
   "metadata": {},
   "outputs": [
    {
     "name": "stdout",
     "output_type": "stream",
     "text": [
      "  0.007528 seconds (2.00 k allocations: 324.531 KiB, 95.38% gc time)\n"
     ]
    },
    {
     "data": {
      "text/plain": [
       "Dict{Symbol,Any} with 5 entries:\n",
       "  :totalins => 209\n",
       "  :out      => 2941952859\n",
       "  :ind      => 903\n",
       "  :relbase  => 1009\n",
       "  :prog     => DefaultDict(306=>311,29=>1,74=>36,905=>0,176=>1003,892=>4,285=>1…"
      ]
     },
     "execution_count": 148,
     "metadata": {},
     "output_type": "execute_result"
    }
   ],
   "source": [
    "@time p9(in9, invals=[1])"
   ]
  },
  {
   "cell_type": "code",
   "execution_count": 149,
   "metadata": {},
   "outputs": [
    {
     "name": "stdout",
     "output_type": "stream",
     "text": [
      "  0.226738 seconds (3.66 M allocations: 263.276 MiB, 9.84% gc time)\n"
     ]
    },
    {
     "data": {
      "text/plain": [
       "Dict{Symbol,Any} with 5 entries:\n",
       "  :totalins => 371205\n",
       "  :out      => 66113\n",
       "  :ind      => 921\n",
       "  :relbase  => 1000\n",
       "  :prog     => DefaultDict(306=>311,29=>1,74=>36,905=>0,176=>1003,892=>4,285=>1…"
      ]
     },
     "execution_count": 149,
     "metadata": {},
     "output_type": "execute_result"
    }
   ],
   "source": [
    "@time p9(in9, invals=[2])"
   ]
  },
  {
   "cell_type": "code",
   "execution_count": 195,
   "metadata": {},
   "outputs": [
    {
     "name": "stdout",
     "output_type": "stream",
     "text": [
      "search: \u001b[0m\u001b[1mp\u001b[22m\u001b[0m\u001b[1m9\u001b[22m\n",
      "\n"
     ]
    },
    {
     "data": {
      "text/latex": [
       "\\begin{verbatim}\n",
       "p9(input; <keyword arguments>)\n",
       "\\end{verbatim}\n",
       "\\section{Arguments}\n",
       "\\begin{itemize}\n",
       "\\item \\texttt{input}: the input array, or input Dict\n",
       "\n",
       "\n",
       "\\item \\texttt{ind}: the starting index (starts from 0,  not 1, due to conversion into a Dict)\n",
       "\n",
       "\n",
       "\\item \\texttt{relbase}: the base for mode 2, i.e. relative mode\n",
       "\n",
       "\n",
       "\\item \\texttt{infinitemode}: a Boolean flag which tells the program to keep printing numbers whenever it sees a 4 (output) instruction, as many times as needed, and only stop when 99 is encountered. Otherwise output the value when 4 is encountered.\n",
       "\n",
       "\n",
       "\\item \\texttt{invals}: an array of the input vals to the program\n",
       "\n",
       "\\end{itemize}\n"
      ],
      "text/markdown": [
       "```\n",
       "p9(input; <keyword arguments>)\n",
       "```\n",
       "\n",
       "# Arguments\n",
       "\n",
       "  * `input`: the input array, or input Dict\n",
       "  * `ind`: the starting index (starts from 0,  not 1, due to conversion into a Dict)\n",
       "  * `relbase`: the base for mode 2, i.e. relative mode\n",
       "  * `infinitemode`: a Boolean flag which tells the program to keep printing numbers whenever it sees a 4 (output) instruction, as many times as needed, and only stop when 99 is encountered. Otherwise output the value when 4 is encountered.\n",
       "  * `invals`: an array of the input vals to the program\n"
      ],
      "text/plain": [
       "\u001b[36m  p9(input; <keyword arguments>)\u001b[39m\n",
       "\n",
       "\u001b[1m  Arguments\u001b[22m\n",
       "\u001b[1m  ≡≡≡≡≡≡≡≡≡≡≡\u001b[22m\n",
       "\n",
       "    •    \u001b[36minput\u001b[39m: the input array, or input Dict\n",
       "\n",
       "    •    \u001b[36mind\u001b[39m: the starting index (starts from 0, not 1, due to conversion\n",
       "        into a Dict)\n",
       "\n",
       "    •    \u001b[36mrelbase\u001b[39m: the base for mode 2, i.e. relative mode\n",
       "\n",
       "    •    \u001b[36minfinitemode\u001b[39m: a Boolean flag which tells the program to keep\n",
       "        printing numbers whenever it sees a 4 (output) instruction, as\n",
       "        many times as needed, and only stop when 99 is encountered.\n",
       "        Otherwise output the value when 4 is encountered.\n",
       "\n",
       "    •    \u001b[36minvals\u001b[39m: an array of the input vals to the program"
      ]
     },
     "execution_count": 195,
     "metadata": {},
     "output_type": "execute_result"
    }
   ],
   "source": [
    "?p9"
   ]
  },
  {
   "cell_type": "markdown",
   "metadata": {},
   "source": [
    "##### Prob 8"
   ]
  },
  {
   "cell_type": "code",
   "execution_count": 131,
   "metadata": {},
   "outputs": [],
   "source": [
    "in8 = read(\"in8.txt\", String);"
   ]
  },
  {
   "cell_type": "code",
   "execution_count": 133,
   "metadata": {},
   "outputs": [],
   "source": [
    "using IterTools"
   ]
  },
  {
   "cell_type": "code",
   "execution_count": 177,
   "metadata": {},
   "outputs": [],
   "source": [
    "layers = partition(in8, 150) |> collect;\n",
    "layers = [map(x->parse(Int, x), layer) |> collect for layer in layers];"
   ]
  },
  {
   "cell_type": "code",
   "execution_count": 178,
   "metadata": {},
   "outputs": [
    {
     "data": {
      "text/plain": [
       "layerComparator (generic function with 1 method)"
      ]
     },
     "execution_count": 178,
     "metadata": {},
     "output_type": "execute_result"
    }
   ],
   "source": [
    "function layerComparator(x, y)\n",
    "    x0s = length(filter(iszero, x))\n",
    "    y0s = length(filter(iszero, y))\n",
    "    x0s < y0s ? x : y\n",
    "end"
   ]
  },
  {
   "cell_type": "code",
   "execution_count": 179,
   "metadata": {},
   "outputs": [],
   "source": [
    "checksumLayer = reduce(layerComparator, layers);"
   ]
  },
  {
   "cell_type": "code",
   "execution_count": 180,
   "metadata": {},
   "outputs": [
    {
     "data": {
      "text/plain": [
       "2480"
      ]
     },
     "execution_count": 180,
     "metadata": {},
     "output_type": "execute_result"
    }
   ],
   "source": [
    "cs1s = length(filter(x->x==1, checksumLayer))\n",
    "cs2s = length(filter(x->x==2, checksumLayer))\n",
    "cs1s * cs2s"
   ]
  },
  {
   "cell_type": "code",
   "execution_count": 181,
   "metadata": {},
   "outputs": [
    {
     "name": "stdout",
     "output_type": "stream",
     "text": [
      "1111 1   1111  1    1  1 \n",
      "   1 1   11  1 1    1  1 \n",
      "  1   1 1 111  1    1111 \n",
      " 1     1  1  1 1    1  1 \n",
      "1      1  1  1 1    1  1 \n",
      "1111   1  111  1111 1  1 \n"
     ]
    }
   ],
   "source": [
    "out = repeat([2], 150)\n",
    "for i in 1:150\n",
    "    j = 1\n",
    "    while out[i] == 2\n",
    "        out[i] = layers[j][i]\n",
    "        j += 1\n",
    "    end\n",
    "end\n",
    "out = partition(out, 25)\n",
    "\n",
    "msg = map(s->string(s...), out)\n",
    "for line in msg\n",
    "    replace(line, \"0\" => \" \") |> println\n",
    "end"
   ]
  },
  {
   "cell_type": "markdown",
   "metadata": {},
   "source": [
    "##### Problem 10"
   ]
  },
  {
   "cell_type": "code",
   "execution_count": 1,
   "metadata": {},
   "outputs": [
    {
     "data": {
      "text/plain": [
       "36"
      ]
     },
     "execution_count": 1,
     "metadata": {},
     "output_type": "execute_result"
    }
   ],
   "source": [
    "in10 = readlines(\"in10.txt\")\n",
    "xdim = length(in10[1])\n",
    "ydim = length(in10)"
   ]
  },
  {
   "cell_type": "code",
   "execution_count": 2,
   "metadata": {},
   "outputs": [
    {
     "data": {
      "text/plain": [
       "angle (generic function with 1 method)"
      ]
     },
     "execution_count": 2,
     "metadata": {},
     "output_type": "execute_result"
    }
   ],
   "source": [
    "astlocs = []\n",
    "for y in 1:ydim, x in 1:xdim\n",
    "    in10[y][x] == '#' && push!(astlocs, (x-1,y-1))\n",
    "end\n",
    "\n",
    "function angle((x1,y1), (x2,y2))\n",
    "    yd = (y2-y1)\n",
    "    xd = (x2-x1)\n",
    "    atan(yd, xd) # Works directly, don't need to worry about 180 etc\n",
    "    #atan(yd / xd), abs(yd)/xd # Need to account for the cyclicity of tan\n",
    "end"
   ]
  },
  {
   "cell_type": "code",
   "execution_count": 4,
   "metadata": {},
   "outputs": [
    {
     "name": "stdout",
     "output_type": "stream",
     "text": [
      "  0.189291 seconds (682.48 k allocations: 18.280 MiB)\n"
     ]
    },
    {
     "data": {
      "text/plain": [
       "((17, 22), 276)"
      ]
     },
     "execution_count": 4,
     "metadata": {},
     "output_type": "execute_result"
    }
   ],
   "source": [
    "@time begin\n",
    "fulld = Dict()\n",
    "\n",
    "for i in astlocs\n",
    "    visible = Set()\n",
    "    for j in astlocs\n",
    "        if i != j\n",
    "            a = angle(j,i)\n",
    "            push!(visible, a)\n",
    "        end\n",
    "    end\n",
    "    fulld[i] = length(visible)\n",
    "end\n",
    "\n",
    "bestloc = reduce((x, y) -> fulld[x] > fulld[y] ? x : y, keys(fulld))\n",
    "\n",
    "bestloc, fulld[bestloc]\n",
    "end"
   ]
  },
  {
   "cell_type": "code",
   "execution_count": 5,
   "metadata": {},
   "outputs": [
    {
     "name": "stdout",
     "output_type": "stream",
     "text": [
      "  0.301755 seconds (644.35 k allocations: 33.365 MiB, 2.45% gc time)\n"
     ]
    },
    {
     "data": {
      "text/plain": [
       "(13, 21)"
      ]
     },
     "execution_count": 5,
     "metadata": {},
     "output_type": "execute_result"
    }
   ],
   "source": [
    "using IterTools\n",
    "\n",
    "@time begin\n",
    "\n",
    "astlocs1 = filter(loc -> loc != bestloc, astlocs)\n",
    "\n",
    "function atan2((x,y); bestloc=bestloc)\n",
    "    # This took a LOOONG time to figure out because of the inverted y-axis, just need to add 90 degs\n",
    "    # Because of the inverted y-axis, moving clock-wise from top is actually equivalent to moving anti-clockwise\n",
    "    # from bottom - i.e. in the normal direction of increasing theta (from -y-axis to +x-axis and onwards).\n",
    "    # So we add pi/2 to move the bottom angle to 0 deg position. Then - to make sure negative angles are in the\n",
    "    # correct place (at the end, not start), we add 2π to the negative angles.\n",
    "    a = atan(y-bestloc[2], x-bestloc[1]) + π/2 \n",
    "    a ≥ 0 ? a : 2π+a\n",
    "end\n",
    "\n",
    "degs = sort(astlocs1, by=atan2)\n",
    "order1 = groupby(atan2, degs) |> collect;\n",
    "\n",
    "manhattan((x,y); bestloc=bestloc) = abs(x-bestloc[1]) + abs(y-bestloc[2])\n",
    "order2 = [sort(locs, by=manhattan) for locs in order1];\n",
    "\n",
    "order3 = []\n",
    "\n",
    "# This is also a bit tricky. The astroids that are in position 2, need to \n",
    "# be moved to the queue only after all asteroids in their respective 1st positions\n",
    "# are destroyed. Then the ones in position 3 and so on...\n",
    "\n",
    "for i in 1:maximum(length, order2)\n",
    "    for j in 1:length(order2)\n",
    "        current = order2[j]\n",
    "        length(current) >= i && push!(order3, current[i])\n",
    "    end    \n",
    "end\n",
    "\n",
    "# And voila...\n",
    "order3[200]\n",
    "    \n",
    "end"
   ]
  },
  {
   "cell_type": "markdown",
   "metadata": {},
   "source": [
    "##### Time to have some fun - let's animate this one"
   ]
  },
  {
   "cell_type": "code",
   "execution_count": 6,
   "metadata": {},
   "outputs": [
    {
     "data": {
      "text/plain": [
       "printmap (generic function with 1 method)"
      ]
     },
     "execution_count": 6,
     "metadata": {},
     "output_type": "execute_result"
    }
   ],
   "source": [
    "function printmap(currentmap)\n",
    "    init = [repeat(['.'], 36) for _ in 1:36]\n",
    "    for (x,y) in currentmap\n",
    "        init[y+1][x+1] = '#'\n",
    "    end\n",
    "    init[bestloc[2]+1][bestloc[1]+1] = 'O' \n",
    "    [string(x...) for x in init] .|> println\n",
    "    nothing\n",
    "end"
   ]
  },
  {
   "cell_type": "code",
   "execution_count": 165,
   "metadata": {},
   "outputs": [
    {
     "name": "stdout",
     "output_type": "stream",
     "text": [
      "....................................\n",
      "....................................\n",
      "....................................\n",
      "....................................\n",
      "....................................\n",
      "....................................\n",
      "....................................\n",
      "................................#...\n",
      "....................................\n",
      "....................................\n",
      "....................................\n",
      "....................................\n",
      "....................................\n",
      "....................................\n",
      "....................................\n",
      "....................................\n",
      "....................................\n",
      "....................................\n",
      "....................................\n",
      "....................................\n",
      "....................................\n",
      "....................................\n",
      ".................O..................\n",
      "....................................\n",
      "....................................\n",
      "....................................\n",
      "....................................\n",
      "....................................\n",
      "....................................\n",
      "....................................\n",
      "....................................\n",
      "....................................\n",
      "....................................\n",
      "....................................\n",
      "....................................\n",
      "....................................\n"
     ]
    }
   ],
   "source": [
    "using IJulia\n",
    "\n",
    "for i in 1:length(order3)\n",
    "    IJulia.clear_output(true)\n",
    "    printmap(order3[i:end])\n",
    "    sleep(0.01)\n",
    "end"
   ]
  },
  {
   "cell_type": "markdown",
   "metadata": {},
   "source": [
    "##### Prob 11"
   ]
  },
  {
   "cell_type": "code",
   "execution_count": 130,
   "metadata": {},
   "outputs": [],
   "source": [
    "in11 = [3,8,1005,8,330,1106,0,11,0,0,0,104,1,104,0,3,8,102,-1,8,10,1001,10,1,10,4,10,108,0,8,10,4,10,1001,8,0,28,1,1103,17,10,1006,0,99,1006,0,91,1,102,7,10,3,8,1002,8,-1,10,101,1,10,10,4,10,108,1,8,10,4,10,1002,8,1,64,3,8,102,-1,8,10,1001,10,1,10,4,10,108,0,8,10,4,10,102,1,8,86,2,4,0,10,1006,0,62,2,1106,13,10,3,8,1002,8,-1,10,1001,10,1,10,4,10,1008,8,0,10,4,10,101,0,8,120,1,1109,1,10,1,105,5,10,3,8,102,-1,8,10,1001,10,1,10,4,10,108,1,8,10,4,10,1002,8,1,149,1,108,7,10,1006,0,40,1,6,0,10,2,8,9,10,3,8,102,-1,8,10,1001,10,1,10,4,10,1008,8,1,10,4,10,1002,8,1,187,1,1105,10,10,3,8,102,-1,8,10,1001,10,1,10,4,10,1008,8,1,10,4,10,1002,8,1,213,1006,0,65,1006,0,89,1,1003,14,10,3,8,102,-1,8,10,1001,10,1,10,4,10,108,0,8,10,4,10,102,1,8,244,2,1106,14,10,1006,0,13,3,8,102,-1,8,10,1001,10,1,10,4,10,108,0,8,10,4,10,1001,8,0,273,3,8,1002,8,-1,10,1001,10,1,10,4,10,108,1,8,10,4,10,1001,8,0,295,1,104,4,10,2,108,20,10,1006,0,94,1006,0,9,101,1,9,9,1007,9,998,10,1005,10,15,99,109,652,104,0,104,1,21102,937268450196,1,1,21102,1,347,0,1106,0,451,21101,387512636308,0,1,21102,358,1,0,1105,1,451,3,10,104,0,104,1,3,10,104,0,104,0,3,10,104,0,104,1,3,10,104,0,104,1,3,10,104,0,104,0,3,10,104,0,104,1,21101,0,97751428099,1,21102,1,405,0,1105,1,451,21102,1,179355806811,1,21101,416,0,0,1106,0,451,3,10,104,0,104,0,3,10,104,0,104,0,21102,1,868389643008,1,21102,439,1,0,1105,1,451,21102,1,709475853160,1,21102,450,1,0,1105,1,451,99,109,2,22102,1,-1,1,21101,0,40,2,21101,482,0,3,21102,1,472,0,1105,1,515,109,-2,2106,0,0,0,1,0,0,1,109,2,3,10,204,-1,1001,477,478,493,4,0,1001,477,1,477,108,4,477,10,1006,10,509,1101,0,0,477,109,-2,2105,1,0,0,109,4,2101,0,-1,514,1207,-3,0,10,1006,10,532,21101,0,0,-3,21202,-3,1,1,22101,0,-2,2,21101,1,0,3,21101,0,551,0,1105,1,556,109,-4,2106,0,0,109,5,1207,-3,1,10,1006,10,579,2207,-4,-2,10,1006,10,579,22102,1,-4,-4,1105,1,647,21201,-4,0,1,21201,-3,-1,2,21202,-2,2,3,21101,0,598,0,1106,0,556,22101,0,1,-4,21102,1,1,-1,2207,-4,-2,10,1006,10,617,21101,0,0,-1,22202,-2,-1,-2,2107,0,-3,10,1006,10,639,22102,1,-1,1,21102,1,639,0,105,1,514,21202,-2,-1,-2,22201,-4,-2,-4,109,-5,2105,1,0];"
   ]
  },
  {
   "cell_type": "code",
   "execution_count": 172,
   "metadata": {},
   "outputs": [
    {
     "data": {
      "text/plain": [
       "1565"
      ]
     },
     "execution_count": 172,
     "metadata": {},
     "output_type": "execute_result"
    }
   ],
   "source": [
    "# The only change I had to make to p9 is to have the program output :ind = -1 if it terminates\n",
    "\n",
    "nextdict = Dict(:up => (0,-1), :down => (0,1), :left => (-1, 0), :right => (1, 0))\n",
    "# Up and down are given in the way pixels are usually counted for these puzzles.\n",
    "\n",
    "rightdict = Dict(:up => :right, :right => :down, :down => :left, :left => :up)\n",
    "leftdict = Dict(v=>k for (k,v) in rightdict)\n",
    "\n",
    "prog = in11\n",
    "ind, relbase = 0, 0\n",
    "currentloc, dir = (1,1), :up\n",
    "\n",
    "locsdict = Dict()\n",
    "\n",
    "while ind != -1\n",
    "    inval = haskey(locsdict, currentloc) ? locsdict[currentloc] : 0\n",
    "    out = p9(prog, invals=[inval], ind=ind, relbase=relbase)\n",
    "    prog, ind, relbase, outval = (out[x] for x in [:prog, :ind, :relbase, :out])\n",
    "    locsdict[currentloc] = (outval == 1) ? 1 : 0\n",
    "    \n",
    "    ind == -1 && break\n",
    "    \n",
    "    out = p9(prog, ind=ind, relbase=relbase)\n",
    "    prog, ind, relbase, outval = (out[x] for x in [:prog, :ind, :relbase, :out])\n",
    "    dirdict = (outval == 0) ? leftdict : rightdict\n",
    "    \n",
    "    dir = dirdict[dir]\n",
    "    currentloc = currentloc .+ nextdict[dir]\n",
    "end\n",
    "\n",
    "length(locsdict)"
   ]
  },
  {
   "cell_type": "code",
   "execution_count": 176,
   "metadata": {},
   "outputs": [
    {
     "data": {
      "text/plain": [
       "250"
      ]
     },
     "execution_count": 176,
     "metadata": {},
     "output_type": "execute_result"
    }
   ],
   "source": [
    "##### prog = in11\n",
    "ind, relbase = 0, 0\n",
    "currentloc, dir = (1,1), :up\n",
    "\n",
    "locsdict = Dict(currentloc => 1) # The only change - start from a white cell\n",
    "\n",
    "while ind != -1\n",
    "    inval = haskey(locsdict, currentloc) ? locsdict[currentloc] : 0\n",
    "    out = p9(prog, invals=[inval], ind=ind, relbase=relbase)\n",
    "    prog, ind, relbase, outval = (out[x] for x in [:prog, :ind, :relbase, :out])\n",
    "    locsdict[currentloc] = (outval == 1) ? 1 : 0\n",
    "    \n",
    "    ind == -1 && break\n",
    "    \n",
    "    out = p9(prog, ind=ind, relbase=relbase)\n",
    "    prog, ind, relbase, outval = (out[x] for x in [:prog, :ind, :relbase, :out])\n",
    "    dirdict = (outval == 0) ? leftdict : rightdict\n",
    "    \n",
    "    dir = dirdict[dir]\n",
    "    currentloc = currentloc .+ nextdict[dir]\n",
    "end\n",
    "\n",
    "length(locsdict)"
   ]
  },
  {
   "cell_type": "code",
   "execution_count": 177,
   "metadata": {},
   "outputs": [
    {
     "data": {
      "text/plain": [
       "((1, 43), (1, 6))"
      ]
     },
     "execution_count": 177,
     "metadata": {},
     "output_type": "execute_result"
    }
   ],
   "source": [
    "locs = keys(locsdict) |> collect\n",
    "xs = first.(locs)\n",
    "ys = last.(locs)\n",
    "\n",
    "xlims = extrema(xs)\n",
    "ylims = extrema(ys)\n",
    "\n",
    "xlims, ylims"
   ]
  },
  {
   "cell_type": "code",
   "execution_count": 180,
   "metadata": {},
   "outputs": [
    {
     "name": "stdout",
     "output_type": "stream",
     "text": [
      " 111  1111 1111 111   11  1111 1111 111    \n",
      " 1  1 1    1    1  1 1  1 1    1    1  1   \n",
      " 1  1 111  111  1  1 1    111  111  111    \n",
      " 111  1    1    111  1    1    1    1  1   \n",
      " 1 1  1    1    1    1  1 1    1    1  1   \n",
      " 1  1 1    1111 1     11  1    1111 111    \n"
     ]
    }
   ],
   "source": [
    "out11 = [repeat([0], 43) for _ in 1:6]\n",
    "\n",
    "for loc in locs\n",
    "    x,y = loc\n",
    "    out11[y][x] = locsdict[loc]\n",
    "end\n",
    "\n",
    "msg = map(s->string(s...), out11)\n",
    "for line in msg\n",
    "    replace(line, \"0\" => \" \") |> println\n",
    "end"
   ]
  },
  {
   "cell_type": "markdown",
   "metadata": {},
   "source": [
    "##### Prob 12"
   ]
  },
  {
   "cell_type": "code",
   "execution_count": 34,
   "metadata": {},
   "outputs": [
    {
     "data": {
      "text/plain": [
       "kenergy (generic function with 1 method)"
      ]
     },
     "execution_count": 34,
     "metadata": {},
     "output_type": "execute_result"
    }
   ],
   "source": [
    "function gravity(bodycoord, othercoord)\n",
    "    pull = othercoord - bodycoord\n",
    "    pull > 0 && return 1\n",
    "    pull < 0 && return -1\n",
    "    return 0\n",
    "end\n",
    "\n",
    "function velcoord(allp; body=1, coord=1)\n",
    "    others = setdiff([1,2,3,4], [body])\n",
    "    mapreduce(other -> gravity(allp[body, coord], allp[other, coord]), +, others)\n",
    "end\n",
    "\n",
    "velx(allp) = [velcoord(allp, body=body, coord=1) for body in 1:4]\n",
    "vely(allp) = [velcoord(allp, body=body, coord=2) for body in 1:4]\n",
    "velz(allp) = [velcoord(allp, body=body, coord=3) for body in 1:4]\n",
    "\n",
    "penergy(coords) = mapreduce(abs, +, coords)\n",
    "kenergy(vels) = mapreduce(abs, +, vels)"
   ]
  },
  {
   "cell_type": "code",
   "execution_count": 101,
   "metadata": {},
   "outputs": [],
   "source": [
    "allpos = [17 -12 13; 2 1 1; -1 -17 7; 12 -14 18];\n",
    "# allpos1 = [-1 0 2; 2 -10 -7; 4 -8 8; 3 5 -1];"
   ]
  },
  {
   "cell_type": "code",
   "execution_count": 106,
   "metadata": {},
   "outputs": [
    {
     "name": "stdout",
     "output_type": "stream",
     "text": [
      "  0.088030 seconds (253.62 k allocations: 16.644 MiB)\n"
     ]
    },
    {
     "data": {
      "text/plain": [
       "8960.0"
      ]
     },
     "execution_count": 106,
     "metadata": {},
     "output_type": "execute_result"
    }
   ],
   "source": [
    "@time begin\n",
    "allpos = [17 -12 13; 2 1 1; -1 -17 7; 12 -14 18]\n",
    "vels = zeros(4,3)\n",
    "\n",
    "for _ in 1:1000\n",
    "    vx, vy, vz = [a(allpos) for a in [velx, vely, velz]] \n",
    "    vels .+= hcat(vx, vy, vz)\n",
    "    allpos .+= vels\n",
    "end\n",
    "\n",
    "sum([penergy(allpos[body,:]) * kenergy(vels[body,:]) for body in 1:4])\n",
    "end"
   ]
  },
  {
   "cell_type": "code",
   "execution_count": 103,
   "metadata": {},
   "outputs": [
    {
     "data": {
      "text/plain": [
       "periodicity (generic function with 2 methods)"
      ]
     },
     "execution_count": 103,
     "metadata": {},
     "output_type": "execute_result"
    }
   ],
   "source": [
    "function periodicity(velc)\n",
    "    allpos = [17 -12 13; 2 1 1; -1 -17 7; 12 -14 18]\n",
    "    vels = zeros(4)\n",
    "    i = 0\n",
    "    stop = false\n",
    "\n",
    "    checkpos = copy(allpos)\n",
    "    checkvels = copy(vels)\n",
    "    \n",
    "    while !stop\n",
    "        vels .+= velc(allpos)\n",
    "        allpos .+= vels\n",
    "        vels == checkvels && allpos == checkpos && (stop = true)\n",
    "        i += 1\n",
    "    end\n",
    "    return i\n",
    "end"
   ]
  },
  {
   "cell_type": "code",
   "execution_count": 104,
   "metadata": {},
   "outputs": [],
   "source": [
    "using Primes"
   ]
  },
  {
   "cell_type": "code",
   "execution_count": 114,
   "metadata": {},
   "outputs": [
    {
     "name": "stdout",
     "output_type": "stream",
     "text": [
      "  0.829949 seconds (20.68 M allocations: 1.620 GiB, 17.53% gc time)\n"
     ]
    },
    {
     "data": {
      "text/plain": [
       "314917503970904"
      ]
     },
     "execution_count": 114,
     "metadata": {},
     "output_type": "execute_result"
    }
   ],
   "source": [
    "@time lcm([periodicity(v) for v in [velx, vely, velz]])"
   ]
  },
  {
   "cell_type": "markdown",
   "metadata": {},
   "source": [
    "##### Prob 13"
   ]
  },
  {
   "cell_type": "code",
   "execution_count": 294,
   "metadata": {},
   "outputs": [
    {
     "data": {
      "text/plain": [
       "p13"
      ]
     },
     "execution_count": 294,
     "metadata": {},
     "output_type": "execute_result"
    }
   ],
   "source": [
    "# Changed the behaviour in case more input is required, specifically if op == 3...\n",
    "\n",
    "binopcodes = Dict([1 => +, 2 => *, 7 => <, 8 => ==])\n",
    "\n",
    "using DataStructures\n",
    "\n",
    "\"\"\"\n",
    "    p13(input; <keyword arguments>)\n",
    "# Arguments\n",
    "- `input`: the input array, or input Dict\n",
    "- `ind`: the starting index (starts from 0,  not 1, due to conversion into a Dict)\n",
    "- `relbase`: the base for mode 2, i.e. relative mode\n",
    "- `infinitemode`: a Boolean flag which tells the program to keep printing numbers whenever it sees a 4 (output) instruction, as many times as needed, and only stop when 99 is encountered. Otherwise output the value when 4 is encountered.\n",
    "- `invals`: an array of the input vals to the program\n",
    "\"\"\"\n",
    "function p13(input; ind=0, relbase=0, infinitemode=false, invals=[0])\n",
    "    if typeof(input) == Array{Int64,1}\n",
    "        inputcopy = Dict(0:length(input)-1 .=> input) |> d -> DefaultDict(0, d)\n",
    "    else\n",
    "        inputcopy = copy(input)\n",
    "    end\n",
    "    \n",
    "    incounter, lastout, totalins = 1, 0, 0 # totalins: Just to see how many instructions are eventually run - not really needed\n",
    "    outs = [] # In infinite mode, collect all the outputs\n",
    "    \n",
    "    while inputcopy[ind] != 99\n",
    "        totalins += 1\n",
    "        ins = inputcopy[ind]\n",
    "        op = ins % 100\n",
    "        \n",
    "        mode1 = (log10(ins) > 2) ? parse(Int, string(ins)[end-2]) : 0\n",
    "        mode2 = (log10(ins) > 3) ? parse(Int, string(ins)[end-3]) : 0\n",
    "        mode3 = (log10(ins) > 4) ? parse(Int, string(ins)[end-4]) : 0\n",
    "        \n",
    "        op in [3,4,9] && (nparams = 1)\n",
    "        op in [5,6] && (nparams = 2)\n",
    "        op in [1,2,7,8] && (nparams = 3)\n",
    "        \n",
    "        param1 = (mode1 == 0) ? inputcopy[ind+1] : (mode1 == 1) ? ind+1 : inputcopy[ind+1]+relbase\n",
    "        nparams > 1 && (param2 = (mode2 == 0) ? inputcopy[ind+2] : (mode2 == 1) ? ind+2 : inputcopy[ind+2]+relbase)\n",
    "        nparams > 2 && (param3 = (mode3 == 0) ? inputcopy[ind+3] : (mode3 == 1) ? ind+3 : inputcopy[ind+3]+relbase)\n",
    "        \n",
    "        #println(\"ins: $ins, ind: $ind, param1 = $(inputcopy[ind+1]), param2 = $(inputcopy[ind+2]), param3 = $(inputcopy[ind+3])\")\n",
    "        \n",
    "        op in [1,2,7,8] && ( inputcopy[param3] = binopcodes[op](inputcopy[param1], inputcopy[param2]) )\n",
    "        \n",
    "        if op == 3\n",
    "            if length(invals) < incounter\n",
    "                return Dict(:out => outs, :prog => inputcopy, :ind => ind, # Have to restart at same place \n",
    "                    :relbase => relbase, :totalins => totalins)\n",
    "            else\n",
    "                inputcopy[param1] = invals[incounter]\n",
    "                incounter += 1\n",
    "            end\n",
    "        elseif op == 4\n",
    "            lastout = inputcopy[param1]\n",
    "            push!(outs, lastout)\n",
    "            !infinitemode && return Dict(:out => outs, :prog => inputcopy, :ind => ind+nparams+1, \n",
    "                                :relbase => relbase, :totalins => totalins)\n",
    "        elseif op == 5\n",
    "            ind = (inputcopy[param1] ≠ 0) ? inputcopy[param2] : ind+3\n",
    "        elseif op == 6\n",
    "            ind = (inputcopy[param1] == 0) ? inputcopy[param2] : ind+3\n",
    "        elseif op == 9 \n",
    "            (relbase += inputcopy[param1])\n",
    "        end\n",
    "        \n",
    "        if !(op in [5,6]) && inputcopy[ind] == ins #In case of jump, no need to do anything. Otherwise check if the execution has changed the instruction at pointer\n",
    "            ind += (nparams + 1)\n",
    "        end\n",
    "    end\n",
    "    return Dict(:out => outs, :prog => inputcopy, :ind => -1, # Changed :ind to -1 to indicate program finished\n",
    "        :relbase => relbase, :totalins => totalins)\n",
    "end"
   ]
  },
  {
   "cell_type": "code",
   "execution_count": 295,
   "metadata": {},
   "outputs": [],
   "source": [
    "in13 = [1,380,379,385,1008,2639,310356,381,1005,381,12,99,109,2640,1101,0,0,383,1101,0,0,382,20102,1,382,1,21002,383,1,2,21101,0,37,0,1105,1,578,4,382,4,383,204,1,1001,382,1,382,1007,382,40,381,1005,381,22,1001,383,1,383,1007,383,25,381,1005,381,18,1006,385,69,99,104,-1,104,0,4,386,3,384,1007,384,0,381,1005,381,94,107,0,384,381,1005,381,108,1106,0,161,107,1,392,381,1006,381,161,1101,-1,0,384,1106,0,119,1007,392,38,381,1006,381,161,1102,1,1,384,21002,392,1,1,21101,23,0,2,21101,0,0,3,21102,138,1,0,1105,1,549,1,392,384,392,20102,1,392,1,21102,1,23,2,21102,1,3,3,21102,161,1,0,1106,0,549,1101,0,0,384,20001,388,390,1,21002,389,1,2,21101,180,0,0,1105,1,578,1206,1,213,1208,1,2,381,1006,381,205,20001,388,390,1,21001,389,0,2,21102,1,205,0,1106,0,393,1002,390,-1,390,1102,1,1,384,20102,1,388,1,20001,389,391,2,21102,228,1,0,1106,0,578,1206,1,261,1208,1,2,381,1006,381,253,21001,388,0,1,20001,389,391,2,21102,253,1,0,1105,1,393,1002,391,-1,391,1101,0,1,384,1005,384,161,20001,388,390,1,20001,389,391,2,21101,0,279,0,1105,1,578,1206,1,316,1208,1,2,381,1006,381,304,20001,388,390,1,20001,389,391,2,21101,0,304,0,1105,1,393,1002,390,-1,390,1002,391,-1,391,1101,0,1,384,1005,384,161,20102,1,388,1,20101,0,389,2,21101,0,0,3,21101,0,338,0,1106,0,549,1,388,390,388,1,389,391,389,20101,0,388,1,21001,389,0,2,21102,4,1,3,21101,0,365,0,1105,1,549,1007,389,24,381,1005,381,75,104,-1,104,0,104,0,99,0,1,0,0,0,0,0,0,348,18,20,1,1,20,109,3,21201,-2,0,1,21202,-1,1,2,21102,1,0,3,21101,414,0,0,1105,1,549,21202,-2,1,1,21201,-1,0,2,21101,429,0,0,1105,1,601,1201,1,0,435,1,386,0,386,104,-1,104,0,4,386,1001,387,-1,387,1005,387,451,99,109,-3,2106,0,0,109,8,22202,-7,-6,-3,22201,-3,-5,-3,21202,-4,64,-2,2207,-3,-2,381,1005,381,492,21202,-2,-1,-1,22201,-3,-1,-3,2207,-3,-2,381,1006,381,481,21202,-4,8,-2,2207,-3,-2,381,1005,381,518,21202,-2,-1,-1,22201,-3,-1,-3,2207,-3,-2,381,1006,381,507,2207,-3,-4,381,1005,381,540,21202,-4,-1,-1,22201,-3,-1,-3,2207,-3,-4,381,1006,381,529,22101,0,-3,-7,109,-8,2106,0,0,109,4,1202,-2,40,566,201,-3,566,566,101,639,566,566,1201,-1,0,0,204,-3,204,-2,204,-1,109,-4,2105,1,0,109,3,1202,-1,40,593,201,-2,593,593,101,639,593,593,21001,0,0,-2,109,-3,2105,1,0,109,3,22102,25,-2,1,22201,1,-1,1,21101,0,503,2,21101,366,0,3,21102,1,1000,4,21101,630,0,0,1105,1,456,21201,1,1639,-2,109,-3,2106,0,0,1,1,1,1,1,1,1,1,1,1,1,1,1,1,1,1,1,1,1,1,1,1,1,1,1,1,1,1,1,1,1,1,1,1,1,1,1,1,1,1,1,0,0,0,0,0,0,0,0,0,0,0,0,0,0,0,0,0,0,0,0,0,0,0,0,0,0,0,0,0,0,0,0,0,0,0,0,0,0,1,1,0,0,0,0,2,0,2,2,2,0,0,0,2,0,0,2,0,2,2,2,0,0,2,0,0,2,0,2,2,2,2,0,2,2,2,0,0,0,1,1,0,0,0,2,2,0,2,2,2,2,0,2,0,2,2,2,2,2,0,2,0,0,0,2,2,2,2,2,2,0,0,0,2,0,2,2,0,0,1,1,0,0,2,2,0,2,0,0,2,2,0,2,2,2,0,2,0,0,0,0,2,2,2,2,0,2,2,0,2,0,0,0,0,2,2,2,2,0,1,1,0,2,2,0,0,0,0,2,2,2,0,2,2,2,0,2,0,0,2,2,2,2,0,2,2,2,0,2,0,2,2,0,0,0,2,2,2,0,1,1,0,2,2,2,2,2,2,2,0,2,0,2,0,0,2,0,2,0,2,0,2,0,2,2,0,2,0,0,0,2,2,0,2,2,2,0,0,0,1,1,0,0,0,2,0,0,2,0,2,0,0,2,0,0,0,2,2,0,2,0,0,0,0,0,2,2,0,2,0,2,2,2,0,2,0,0,2,0,1,1,0,2,0,2,2,2,0,0,2,2,0,2,0,2,0,0,0,2,2,2,2,0,0,0,0,0,0,0,0,2,0,2,0,0,0,2,2,0,1,1,0,0,2,2,2,0,0,2,2,2,2,0,0,2,0,0,2,2,2,2,2,2,0,2,0,0,0,2,2,0,2,2,2,2,0,2,0,0,1,1,0,0,2,2,0,0,2,2,0,2,2,0,0,2,2,2,0,0,0,0,2,2,0,2,0,2,0,2,0,0,0,0,0,0,0,2,2,0,1,1,0,0,2,0,2,2,2,2,2,2,0,0,2,2,2,0,0,2,2,2,2,2,0,0,2,0,0,2,0,2,0,2,2,0,0,0,2,0,1,1,0,2,0,2,0,2,0,2,2,2,0,0,0,0,2,0,2,0,2,0,2,2,2,2,2,2,2,2,2,2,2,2,2,0,2,2,2,0,1,1,0,2,2,2,0,2,2,2,2,2,0,0,2,2,2,0,0,0,0,0,2,0,2,0,2,2,0,2,0,0,0,0,2,2,2,2,0,0,1,1,0,2,2,2,0,2,0,2,0,0,0,0,2,0,0,2,0,0,2,2,2,2,2,0,2,0,2,0,2,2,2,0,0,2,0,0,2,0,1,1,0,0,2,2,2,2,0,2,2,2,2,0,2,0,2,2,0,2,0,2,2,0,0,2,2,2,2,2,0,2,2,2,2,2,0,2,2,0,1,1,0,2,0,2,2,2,0,0,2,0,2,2,0,2,2,0,2,0,0,2,2,0,2,2,0,2,2,0,2,2,0,2,2,2,0,2,0,0,1,1,0,2,0,0,2,2,0,0,0,0,2,0,0,2,0,2,2,2,0,2,2,0,2,2,2,0,2,0,2,0,2,0,0,2,2,0,0,0,1,1,0,2,2,2,2,2,2,0,2,2,0,2,2,2,0,2,2,2,2,2,0,2,0,2,0,0,2,2,2,2,2,2,0,0,0,2,0,0,1,1,0,0,0,0,0,0,0,0,0,0,0,0,0,0,0,0,0,0,0,0,0,0,0,0,0,0,0,0,0,0,0,0,0,0,0,0,0,0,1,1,0,0,0,0,0,0,0,0,0,0,0,0,0,0,0,0,0,4,0,0,0,0,0,0,0,0,0,0,0,0,0,0,0,0,0,0,0,0,1,1,0,0,0,0,0,0,0,0,0,0,0,0,0,0,0,0,0,0,0,0,0,0,0,0,0,0,0,0,0,0,0,0,0,0,0,0,0,0,1,1,0,0,0,0,0,0,0,0,0,0,0,0,0,0,0,0,0,0,0,0,0,0,0,0,0,0,0,0,0,0,0,0,0,0,0,0,0,0,1,1,0,0,0,0,0,0,0,0,0,0,0,0,0,0,0,0,0,0,0,3,0,0,0,0,0,0,0,0,0,0,0,0,0,0,0,0,0,0,1,1,0,0,0,0,0,0,0,0,0,0,0,0,0,0,0,0,0,0,0,0,0,0,0,0,0,0,0,0,0,0,0,0,0,0,0,0,0,0,1,24,35,13,44,44,95,83,45,69,64,58,57,22,91,79,21,65,90,94,24,82,6,96,96,64,21,91,4,36,76,6,74,41,72,32,87,50,48,47,93,86,73,24,78,50,10,95,14,50,78,6,90,98,26,68,75,40,73,80,89,1,41,68,42,47,58,32,23,48,11,83,74,68,41,55,89,46,8,27,5,3,81,42,88,49,51,55,91,22,93,13,12,10,87,42,90,35,88,12,94,79,76,89,39,71,69,32,5,72,45,12,79,57,35,60,46,28,34,79,3,97,32,52,77,66,26,55,8,89,2,76,20,49,64,72,50,15,21,22,63,19,22,44,11,44,36,4,77,24,25,29,8,31,27,68,91,90,89,18,53,67,92,68,59,7,56,2,88,83,82,83,5,73,19,53,81,85,65,93,10,21,46,69,90,32,17,37,31,69,96,93,10,98,32,86,73,91,95,13,15,83,72,10,4,52,64,35,52,42,55,4,76,13,39,54,31,51,78,62,40,14,11,81,34,93,97,47,67,26,46,86,80,69,6,8,56,12,80,88,49,20,79,40,7,54,63,15,46,64,59,74,28,11,48,27,41,20,27,29,70,73,46,18,21,48,26,42,63,7,80,54,8,43,31,3,39,10,30,7,98,87,33,62,81,61,31,64,27,94,38,42,39,55,9,61,38,76,8,48,13,94,8,85,23,72,84,6,60,18,25,30,64,37,97,59,71,16,83,83,18,92,53,39,17,73,39,37,30,9,2,87,32,23,56,11,24,1,84,82,5,8,60,55,44,57,43,14,88,72,51,83,20,3,70,33,33,1,6,86,17,4,77,69,33,65,93,97,66,42,23,34,96,4,25,76,46,2,34,52,5,17,87,69,15,22,3,87,80,36,1,70,43,56,64,11,47,39,5,64,1,41,54,34,95,42,17,8,68,73,45,54,84,16,83,59,27,56,75,34,44,78,70,19,25,90,52,65,58,1,72,2,70,3,26,11,69,73,74,29,8,22,2,93,18,98,16,10,62,92,44,70,69,86,53,2,43,62,45,18,22,46,87,48,21,56,36,71,91,94,84,95,28,74,64,16,44,27,35,33,41,66,9,74,3,94,78,3,47,91,66,92,10,2,6,45,57,24,83,4,56,25,24,51,77,39,36,28,20,6,27,14,25,54,15,84,5,29,16,98,21,32,94,93,5,75,67,65,89,32,16,79,71,31,89,9,5,39,12,14,34,61,9,80,1,65,59,48,48,46,60,98,1,29,98,57,17,18,76,49,93,13,28,37,88,37,46,4,19,48,10,58,37,47,13,85,23,10,48,77,68,92,62,74,63,7,21,31,20,53,87,74,9,32,80,91,70,9,95,90,37,61,60,26,22,56,26,79,65,58,88,51,7,42,43,89,90,11,10,27,19,10,76,96,34,55,36,2,67,11,25,15,96,35,27,50,78,12,8,77,76,26,49,77,60,41,14,24,3,52,52,49,25,35,45,21,98,1,61,2,32,55,86,55,48,28,15,69,97,42,85,90,58,1,75,8,91,60,26,9,70,86,16,50,95,52,90,17,54,1,98,12,25,13,26,94,47,24,23,54,54,65,65,94,61,14,58,35,72,23,98,32,4,84,36,58,38,98,59,1,6,56,1,43,56,33,31,39,64,88,60,30,41,98,17,89,7,15,76,20,43,44,60,65,94,32,71,12,67,87,38,35,56,84,31,12,33,5,42,66,87,47,21,4,52,16,74,18,10,32,97,76,68,76,59,77,92,65,6,15,32,32,14,2,64,67,14,34,3,44,39,56,60,88,56,88,1,76,14,20,67,53,98,74,88,90,67,40,41,56,27,81,58,93,41,78,31,28,12,25,28,94,20,18,41,40,79,10,96,1,64,57,90,30,83,87,71,75,73,63,48,18,10,39,96,60,87,24,54,73,96,6,7,32,26,18,20,4,42,33,63,76,14,21,74,72,3,85,59,16,43,3,22,11,29,96,8,51,32,5,35,94,84,48,58,17,37,58,98,64,63,63,96,31,24,67,29,85,34,29,63,42,68,53,10,47,61,87,33,74,6,76,71,38,52,56,69,32,4,11,44,34,67,13,2,92,55,69,31,15,21,24,7,54,71,93,64,53,67,24,61,25,90,4,95,85,15,44,32,86,11,10,3,32,26,43,18,98,89,82,19,34,30,74,24,96,14,79,46,87,22,53,66,60,91,40,75,92,66,13,33,13,29,55,69,77,34,87,49,83,57,76,42,11,53,27,42,82,28,46,91,310356];"
   ]
  },
  {
   "cell_type": "code",
   "execution_count": 297,
   "metadata": {},
   "outputs": [
    {
     "name": "stdout",
     "output_type": "stream",
     "text": [
      "  0.011790 seconds (154.96 k allocations: 11.717 MiB)\n"
     ]
    },
    {
     "data": {
      "text/plain": [
       "Dict{Symbol,Any} with 5 entries:\n",
       "  :totalins => 17106\n",
       "  :out      => Any[0, 0, 1, 1, 0, 1, 2, 0, 1, 3  …  0, 37, 24, 0, 38, 24, 0, 39…\n",
       "  :ind      => -1\n",
       "  :relbase  => 2640\n",
       "  :prog     => DefaultDict(1704=>58,1760=>32,306=>-1,1316=>0,1090=>0,2111=>74,1…"
      ]
     },
     "execution_count": 297,
     "metadata": {},
     "output_type": "execute_result"
    }
   ],
   "source": [
    "@time out = p13(in13, infinitemode=true)"
   ]
  },
  {
   "cell_type": "code",
   "execution_count": 298,
   "metadata": {},
   "outputs": [
    {
     "name": "stdout",
     "output_type": "stream",
     "text": [
      "  0.046279 seconds (67.55 k allocations: 3.388 MiB)\n"
     ]
    },
    {
     "data": {
      "text/plain": [
       "348"
      ]
     },
     "execution_count": 298,
     "metadata": {},
     "output_type": "execute_result"
    }
   ],
   "source": [
    "@time length(filter(x->x==2, [out[:out][i] for i in 3:3:3000]))"
   ]
  },
  {
   "cell_type": "code",
   "execution_count": 322,
   "metadata": {},
   "outputs": [
    {
     "data": {
      "text/plain": [
       "2"
      ]
     },
     "execution_count": 322,
     "metadata": {},
     "output_type": "execute_result"
    }
   ],
   "source": [
    "in13[1] = 2"
   ]
  },
  {
   "cell_type": "code",
   "execution_count": 325,
   "metadata": {},
   "outputs": [],
   "source": [
    "prog = in13\n",
    "ind, relbase = 0, 0\n",
    "invals = [0]\n",
    "allouts = []\n",
    "\n",
    "while ind != -1\n",
    "    out = p13(prog, ind=ind, relbase=relbase, invals=invals, infinitemode=true)\n",
    "    prog, ind, relbase, outs = [out[x] for x in [:prog, :ind, :relbase, :out]]\n",
    "    outlen = length(outs)\n",
    "    indball = indexin([4], [outs[j] for j in 3:3:outlen])[1]\n",
    "    indpad = indexin([3], [outs[j] for j in 3:3:outlen])[1]\n",
    "    !isnothing(indball) && (ballx = outs[3*indball-2])\n",
    "    !isnothing(indpad) && (padx = outs[3*indpad-2])\n",
    "    invals = (ballx < padx) ? [-1] : (ballx > padx) ? [1] : [0]\n",
    "    append!(allouts, outs) \n",
    "end"
   ]
  },
  {
   "cell_type": "code",
   "execution_count": 328,
   "metadata": {},
   "outputs": [
    {
     "data": {
      "text/plain": [
       "Dict{Symbol,Any} with 5 entries:\n",
       "  :totalins => 177\n",
       "  :out      => Any[24, 23, 0, 25, 23, 3, 26, 16, 0, -1, 0, 16999]\n",
       "  :ind      => -1\n",
       "  :relbase  => 2643\n",
       "  :prog     => DefaultDict(1704=>58,1760=>32,306=>-1,1316=>0,1090=>0,2111=>74,1…"
      ]
     },
     "execution_count": 328,
     "metadata": {},
     "output_type": "execute_result"
    }
   ],
   "source": [
    "out"
   ]
  },
  {
   "cell_type": "markdown",
   "metadata": {},
   "source": [
    "##### Prob 14"
   ]
  },
  {
   "cell_type": "code",
   "execution_count": 39,
   "metadata": {},
   "outputs": [
    {
     "data": {
      "text/plain": [
       "Dict{SubString{String},Array{Any,1}} with 62 entries:\n",
       "  \"BJLQG\" => Any[3, Tuple{Int64,SubString{String}}[(6, \"DBGK\"), (1, \"ZPVDZ\")]]\n",
       "  \"KRSK\"  => Any[4, Tuple{Int64,SubString{String}}[(137, \"ORE\")]]\n",
       "  \"LGVS\"  => Any[4, Tuple{Int64,SubString{String}}[(1, \"DGXQJ\"), (15, \"PWXFD\"),…\n",
       "  \"BDPJD\" => Any[5, Tuple{Int64,SubString{String}}[(1, \"TLGRN\")]]\n",
       "  \"PWXFD\" => Any[4, Tuple{Int64,SubString{String}}[(1, \"KCHWM\"), (10, \"DGXQJ\")]]\n",
       "  \"PLDS\"  => Any[9, Tuple{Int64,SubString{String}}[(4, \"HKXCV\")]]\n",
       "  \"NMWGH\" => Any[8, Tuple{Int64,SubString{String}}[(1, \"FXLD\"), (1, \"VMVJS\")]]\n",
       "  \"JLSHT\" => Any[3, Tuple{Int64,SubString{String}}[(5, \"KRSK\")]]\n",
       "  \"KSJPW\" => Any[9, Tuple{Int64,SubString{String}}[(2, \"KCHWM\"), (6, \"HSCF\")]]\n",
       "  \"DZJLT\" => Any[6, Tuple{Int64,SubString{String}}[(5, \"CTBV\"), (1, \"CDRP\"), (5…\n",
       "  \"CGRFH\" => Any[9, Tuple{Int64,SubString{String}}[(7, \"NMWGH\")]]\n",
       "  \"KVKM\"  => Any[8, Tuple{Int64,SubString{String}}[(3, \"DHJD\")]]\n",
       "  \"DBGK\"  => Any[7, Tuple{Int64,SubString{String}}[(5, \"QHGP\"), (1, \"WHSGM\")]]\n",
       "  \"DQTLW\" => Any[8, Tuple{Int64,SubString{String}}[(26, \"CDRP\")]]\n",
       "  \"BZWFZ\" => Any[2, Tuple{Int64,SubString{String}}[(6, \"VFVBP\")]]\n",
       "  \"DGXQJ\" => Any[7, Tuple{Int64,SubString{String}}[(8, \"TKMGN\")]]\n",
       "  \"TLGRN\" => Any[9, Tuple{Int64,SubString{String}}[(14, \"CTBV\"), (23, \"PLDS\"), …\n",
       "  \"XRJH\"  => Any[2, Tuple{Int64,SubString{String}}[(1, \"TLRZ\")]]\n",
       "  \"SCZCQ\" => Any[9, Tuple{Int64,SubString{String}}[(2, \"TLGRN\"), (2, \"DHJD\"), (…\n",
       "  \"LFXWM\" => Any[6, Tuple{Int64,SubString{String}}[(10, \"WHSGM\")]]\n",
       "  \"WSGW\"  => Any[7, Tuple{Int64,SubString{String}}[(1, \"RGRHS\")]]\n",
       "  \"CPXLQ\" => Any[1, Tuple{Int64,SubString{String}}[(4, \"BZWFZ\"), (1, \"TLGRN\"), …\n",
       "  \"RHKVX\" => Any[4, Tuple{Int64,SubString{String}}[(6, \"LGVS\"), (21, \"DGXQJ\")]]\n",
       "  \"TKMGN\" => Any[7, Tuple{Int64,SubString{String}}[(115, \"ORE\")]]\n",
       "  \"WNVTR\" => Any[8, Tuple{Int64,SubString{String}}[(16, \"DJSW\"), (1, \"PGJC\"), (…\n",
       "  ⋮       => ⋮"
      ]
     },
     "execution_count": 39,
     "metadata": {},
     "output_type": "execute_result"
    }
   ],
   "source": [
    "function splitstr(s)\n",
    "    n, ingredient = split(s)\n",
    "    parse(Int, n), ingredient\n",
    "end\n",
    "\n",
    "function chemstopair(s)\n",
    "    allchems = collect(eachmatch(r\"([\\d]+ [A-Z]+)\", s))\n",
    "    inchemstr, outchemstr = [chem[1] for chem in allchems[1:end-1]], allchems[end][1]\n",
    "    outqty, outchem = splitstr(outchemstr)\n",
    "    inchems = inchemstr .|> splitstr\n",
    "    outchem => [outqty, inchems]\n",
    "end\n",
    "\n",
    "rxndict = readlines(\"in14.txt\") .|> chemstopair |> Dict"
   ]
  },
  {
   "cell_type": "code",
   "execution_count": 34,
   "metadata": {},
   "outputs": [
    {
     "data": {
      "text/plain": [
       "runrxn (generic function with 2 methods)"
      ]
     },
     "execution_count": 34,
     "metadata": {},
     "output_type": "execute_result"
    }
   ],
   "source": [
    "function runrxn(chem, qty)\n",
    "    qtyperrxn, inchems = rxndict[chem]\n",
    "    n = ceil(qty / qtyperrxn) |> Int64\n",
    "    for (inqty, inchem) in inchems\n",
    "        if inchem == \"ORE\"\n",
    "            oreused[1] += n * inqty\n",
    "        else\n",
    "            currentstock[inchem] < (n*inqty) && runrxn(inchem, n*inqty - currentstock[inchem])\n",
    "            currentstock[inchem] -= n*inqty\n",
    "        end\n",
    "    end\n",
    "    currentstock[chem] += qtyperrxn*n\n",
    "    return nothing\n",
    "end"
   ]
  },
  {
   "cell_type": "code",
   "execution_count": 40,
   "metadata": {},
   "outputs": [
    {
     "data": {
      "text/plain": [
       "1-element Array{Int64,1}:\n",
       " 136771"
      ]
     },
     "execution_count": 40,
     "metadata": {},
     "output_type": "execute_result"
    }
   ],
   "source": [
    "oreused = [0]\n",
    "currentstock = Dict(keys(rxndict) .=> 0)\n",
    "runrxn(\"FUEL\", 1)\n",
    "\n",
    "oreused"
   ]
  },
  {
   "cell_type": "code",
   "execution_count": 41,
   "metadata": {},
   "outputs": [
    {
     "data": {
      "text/plain": [
       "1-element Array{Int64,1}:\n",
       " 999925002358"
      ]
     },
     "execution_count": 41,
     "metadata": {},
     "output_type": "execute_result"
    }
   ],
   "source": [
    "# Part 2 \n",
    "# A bit of trial/error to get close... \n",
    "\n",
    "oreused = [0]\n",
    "currentstock = Dict(keys(rxndict) .=> 0)\n",
    "runrxn(\"FUEL\", 8193000)\n",
    "\n",
    "oreused"
   ]
  },
  {
   "cell_type": "code",
   "execution_count": 44,
   "metadata": {},
   "outputs": [
    {
     "name": "stdout",
     "output_type": "stream",
     "text": [
      "8193614\n"
     ]
    }
   ],
   "source": [
    "# And finally finetune\n",
    "\n",
    "for i in 8193000:8200000\n",
    "    oreused = [0]\n",
    "    currentstock = Dict(keys(rxndict) .=> 0)\n",
    "    runrxn(\"FUEL\", i)\n",
    "    if oreused[1] > 1e12\n",
    "        println(i-1) # The highest FUEL possible without hitting 1e12 OREs\n",
    "        break\n",
    "    end\n",
    "end"
   ]
  },
  {
   "cell_type": "code",
   "execution_count": null,
   "metadata": {},
   "outputs": [],
   "source": []
  }
 ],
 "metadata": {
  "kernelspec": {
   "display_name": "Julia 1.3.0",
   "language": "julia",
   "name": "julia-1.3"
  },
  "language_info": {
   "file_extension": ".jl",
   "mimetype": "application/julia",
   "name": "julia",
   "version": "1.3.0"
  }
 },
 "nbformat": 4,
 "nbformat_minor": 4
}
